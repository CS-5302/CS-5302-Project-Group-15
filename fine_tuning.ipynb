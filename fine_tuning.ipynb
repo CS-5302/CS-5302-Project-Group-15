{
 "cells": [
  {
   "cell_type": "code",
   "execution_count": 1,
   "metadata": {},
   "outputs": [
    {
     "name": "stdout",
     "output_type": "stream",
     "text": [
      "id='gedajngtdsrgg0cf05yt3kpgwc' model='meta/llama-2-7b' version='73001d654114dad81ec65da3b834e2f691af1e1526453189b7bf36fb3f32d0f9' destination=None status='starting' input={'learning_rate': 1e-05, 'num_train_epochs': 1, 'num_validation_samples': 200, 'peft_method': 'qlora', 'train_batch_size': 10, 'train_data': 'https://raw.githubusercontent.com/CS-5302/CS-5302-Project-Group-15/main/Datasets/MeDAL/training_data(2).jsonl'} output=None logs='' error=None created_at='2024-04-21T16:28:47.086Z' started_at=None completed_at=None urls={'cancel': 'https://api.replicate.com/v1/predictions/gedajngtdsrgg0cf05yt3kpgwc/cancel', 'get': 'https://api.replicate.com/v1/predictions/gedajngtdsrgg0cf05yt3kpgwc'}\n"
     ]
    }
   ],
   "source": [
    "import replicate, os, getpass\n",
    "\n",
    "# Setting the Replicate API token env variable\n",
    "os.environ[\"REPLICATE_API_TOKEN\"] = getpass.getpass(\"REPLICATE_API_TOKEN: \")\n",
    "\n",
    "# Creating a new training job with Replicate\n",
    "training = replicate.trainings.create(\n",
    "  # version of the model to be trained\n",
    "  version=\"meta/llama-2-7b:73001d654114dad81ec65da3b834e2f691af1e1526453189b7bf36fb3f32d0f9\",\n",
    "\n",
    "  # input parameters for the training job\n",
    "  input={\n",
    "    \"train_data\": \"https://raw.githubusercontent.com/CS-5302/CS-5302-Project-Group-15/main/Datasets/MeDAL/training_data(2).jsonl\",\n",
    "    \"num_train_epochs\": 1,\n",
    "    \"train_batch_size\": 10,\n",
    "    \"num_validation_samples\": 200,\n",
    "    \"learning_rate\": 1e-5,\n",
    "    \"peft_method\": \"qlora\"\n",
    "  },\n",
    "  destination=\"ubaidtariq8/llama2-med\"\n",
    ")\n",
    "\n",
    "print(training)"
   ]
  }
 ],
 "metadata": {
  "kernelspec": {
   "display_name": "Python 3",
   "language": "python",
   "name": "python3"
  },
  "language_info": {
   "codemirror_mode": {
    "name": "ipython",
    "version": 3
   },
   "file_extension": ".py",
   "mimetype": "text/x-python",
   "name": "python",
   "nbconvert_exporter": "python",
   "pygments_lexer": "ipython3",
   "version": "3.11.9"
  }
 },
 "nbformat": 4,
 "nbformat_minor": 2
}
