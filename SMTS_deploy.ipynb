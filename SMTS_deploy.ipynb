{
 "cells": [
  {
   "cell_type": "code",
   "execution_count": 1,
   "metadata": {},
   "outputs": [],
   "source": [
    "import gradio as gr\n",
    "import importlib\n",
    "import re\n",
    "import os\n",
    "import pickle\n",
    "from IPython.display import Markdown\n",
    "from python_scripts import llm_rag, machine_translation, text_to_speech, whisper_setup, get_audio, utils\n",
    "import numpy as np\n",
    "from scipy.io.wavfile import write\n",
    "import librosa\n",
    "\n",
    "# r8_Ivqc9hSVLVo3SD03jecneTB6XD6z7Ve1ScGPw\n",
    "\n",
    "# Define paths dynamically\n",
    "PATH = os.getcwd().replace('\\\\\\\\', '/')\n",
    "\n",
    "with open('symptom_list.pkl', 'rb') as f:\n",
    "    symptom_list = pickle.load(f)\n",
    "\n",
    "root_path = PATH + '\\\\Datasets\\\\MeDAL'\n",
    "audio_path = PATH + '\\\\Datasets\\\\Audio_Files'"
   ]
  },
  {
   "cell_type": "code",
   "execution_count": 4,
   "metadata": {},
   "outputs": [],
   "source": [
    "def SMTS(Query):\n",
    "    try:\n",
    "        # Process the audio input\n",
    "        file_path = 'output_testing.wav'\n",
    "        write(file_path, data = np.array(Query[1], dtype = np.int16), rate = Query[0])\n",
    "        audio_processed = utils.preprocess_audio(file_path)\n",
    "        # Transcribe Query to English\n",
    "        whisper_models = [\"tiny\", \"base\", \"small\", \"medium\", \"large\"]\n",
    "\n",
    "        transcript = whisper_setup.transcribe_audio(audio_processed, ['tiny'])\n",
    "        text = (transcript['tiny'][2]).lower()\n",
    "\n",
    "        # Regular expression pattern to match symptoms containing 'or' any symptoms from the list\n",
    "        pattern = r'\\b(?:' + '|'.join(map(re.escape, symptom_list)) + \\\n",
    "        '|'.join('(?:{}|{})'.format(re.escape(symptom.split(' or ')[0]), re.escape(symptom.split(' or ')[1])) \\\n",
    "                 for symptom in symptom_list if ' or ' in symptom) + r')\\b'\n",
    "\n",
    "        # Extract symptoms from the query\n",
    "        extracted_symptoms = re.findall(pattern, text, flags = re.IGNORECASE)\n",
    "\n",
    "        # Feed query into the LLM\n",
    "        models = {\n",
    "        'llama_ours': 'ubaidtariq8/llama2-med-genai', # fine tuned model from replicate\n",
    "        'lora_model': 'nehals_fine_tuned_model',      # fine tuned model from unsloth\n",
    "        'nous-hermes2': 'maryams_fine_tuned_model',   # fine tuned model from gradientai - currently not supported with gradio due to version compatibility issues (detail in fine_tuning_gradientAI.ipynb notebook in our repo)\n",
    "        'mixtral': 'mistralai/mixtral-8x7b-instruct-v0.1' # Used for Pipeline 1 with no fine tuning\n",
    "        }\n",
    "        # Note: We have made the supposed functionality needed for the gradientAI fine tuned model to be integated with gradio however due to compatibility issues we will ignore those.\n",
    "\n",
    "        fine_tune = input('Please specify which pipeline to use. Press 1 for Pipeline 1 (No fine-tuning), 2 for Pipeline 2 \\n')\n",
    "        model_option = ''\n",
    "\n",
    "        if fine_tune == '2':\n",
    "            model_option = 'lora_model' if input('Please specify which fine-tuned model to use. Press 1 for Mistral 7B, 2 for Nous-Hermes2 \\n') == '1' else 'nous-hermes2'\n",
    "        else:\n",
    "          model_option = 'mixtral'\n",
    "\n",
    "        model = llm_rag.DocumentEmbeddingPipeline(model_version = models[model_option], chroma_path = root_path)\n",
    "        model.setup_environment()\n",
    "        model.prepare_documents(collection_name = \"muqeem\", joining = True, persistent = True)\n",
    "        model.embed_and_index()\n",
    "\n",
    "        instructions = 'You are a medical doctor. A patient has come to you for desperate need of help. Give as accurate diagnosis as possible on the symptoms listed. '\n",
    "        input_lora = ', '.join(extracted_symptoms) + '. Also consider the whole query ' + text + ' ' + 'Give also suggestions for mitigating the problem.'\n",
    "        query = instructions + input_lora\n",
    "\n",
    "        # Pipeline 1 (response + translation into user's language)\n",
    "        if model_option == 'mixtral':\n",
    "          response = model.query_data(query)\n",
    "          translated_text = machine_translation.translate_text(text = response.response, src_lang = 'en', trg_lang = transcript['tiny'][0])\n",
    "        # Pipeline 2\n",
    "        elif model_option == 'lora_model':\n",
    "          response = model.setup_lora_model(\"lora_model\", instructions, input_lora)\n",
    "          translated_text = machine_translation.translate_text(text = response, src_lang = 'en', trg_lang = transcript['tiny'][0])\n",
    "        else: # nous-hermes2\n",
    "            response = model.setup_nous_hermes2(query) # clean response if needed and bring it into pure string format\n",
    "            translated_text = machine_translation.translate_text(text = response, src_lang = 'en', trg_lang = transcript['tiny'][0])\n",
    "\n",
    "        # Now speak the response in the user's language\n",
    "        audio_answer_path = audio_path + '/audio.wav'\n",
    "        text_to_speech.multilingual_text_to_speech(text = translated_text, filepath = audio_answer_path)\n",
    "        utils.sasti_harkat(audio_answer_path)\n",
    "        arr, sr = librosa.load(audio_answer_path)\n",
    "\n",
    "        return text, translated_text, (sr, arr)\n",
    "    except Exception as e:\n",
    "        print(\"An error occurred:\", e)"
   ]
  },
  {
   "cell_type": "code",
   "execution_count": 5,
   "metadata": {},
   "outputs": [
    {
     "name": "stdout",
     "output_type": "stream",
     "text": [
      "Running on local URL:  http://127.0.0.1:7861\n",
      "\n",
      "To create a public link, set `share=True` in `launch()`.\n"
     ]
    },
    {
     "data": {
      "text/html": [
       "<div><iframe src=\"http://127.0.0.1:7861/\" width=\"100%\" height=\"500\" allow=\"autoplay; camera; microphone; clipboard-read; clipboard-write;\" frameborder=\"0\" allowfullscreen></iframe></div>"
      ],
      "text/plain": [
       "<IPython.core.display.HTML object>"
      ]
     },
     "metadata": {},
     "output_type": "display_data"
    },
    {
     "data": {
      "text/plain": []
     },
     "execution_count": 5,
     "metadata": {},
     "output_type": "execute_result"
    }
   ],
   "source": [
    "# Launch the Gradio Interface\n",
    "demo = gr.Interface(\n",
    "    fn = SMTS,\n",
    "    inputs = [gr.Audio(label = 'Get your Voice Heard! 🔍', sources = [\"microphone\"])],\n",
    "    outputs = [gr.Textbox(label = \"We have heard your Voice! 👂\"), gr.Textbox(label = \"This is what we recommend: 📋\"), gr.Audio(label = 'Press Play to listen to your medical report: 🔊')],\n",
    "    allow_flagging = 'never',\n",
    "    theme = 'gradio/base',\n",
    "    title = '''SymptoCare 🤖''',\n",
    "    description = '''## Welcome to SymptoCare! 🌟\n",
    "    Discover the power of seamless communication in healthcare with SymptoCare, your personalized healthcare assistant!\n",
    "    ### How It Works:\n",
    "    1. 🎤 *Speak your symptoms.*\n",
    "    2. 🔄 *Let SymptoCare translate them into actionable insights.*\n",
    "    3. 🗨️ *Engage with your healthcare provider like never before!*''',\n",
    "\n",
    "    article = '''### What We Offer:\n",
    "    - 🗣️ *Breaking language barriers with ease.*\n",
    "    - 📲 *Translating your symptoms into accurate diagnoses.*\n",
    "    - 🤝 *Empowering your healthcare journey with personalized care.*\n",
    "\n",
    "    ### Join Us Today:\n",
    "    Get started now and take control of your healthcare journey! Check our [Github](https://github.com/CS-5302/CS-5302-Project-Group-15) here! Do give us a star if you like our work! 😀'''\n",
    ")\n",
    "\n",
    "demo.launch()"
   ]
  },
  {
   "cell_type": "code",
   "execution_count": null,
   "metadata": {},
   "outputs": [],
   "source": []
  }
 ],
 "metadata": {
  "kernelspec": {
   "display_name": "Python 3",
   "language": "python",
   "name": "python3"
  },
  "language_info": {
   "codemirror_mode": {
    "name": "ipython",
    "version": 3
   },
   "file_extension": ".py",
   "mimetype": "text/x-python",
   "name": "python",
   "nbconvert_exporter": "python",
   "pygments_lexer": "ipython3",
   "version": "3.11.0"
  }
 },
 "nbformat": 4,
 "nbformat_minor": 2
}
