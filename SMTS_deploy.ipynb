{
 "cells": [
  {
   "cell_type": "code",
   "execution_count": 1,
   "metadata": {},
   "outputs": [],
   "source": [
    "import gradio as gr\n",
    "import os\n",
    "from IPython.display import Markdown\n",
    "from python_scripts import llm_rag, machine_translation, text_to_speech, whisper_setup, get_audio, utils\n",
    "\n",
    "# Define paths dynamically\n",
    "PATH = os.getcwd().replace('\\\\\\\\', '/')\n",
    "data_path = PATH + '/Datasets/MeDAL'"
   ]
  },
  {
   "cell_type": "code",
   "execution_count": null,
   "metadata": {},
   "outputs": [],
   "source": [
    "def SMTS():\n",
    "    try:\n",
    "        # Step 1: Get Query from Audio\n",
    "        audio_path = utils.record_audio()\n",
    "\n",
    "        # Step 2: Transcribe Query to English\n",
    "        whisper_models = [\"tiny\", \"base\", \"small\", \"medium\", \"large\"]\n",
    "        transcript = whisper_setup.transcribe_audio(audio_path, whisper_models)\n",
    "\n",
    "        # Step 3: Feed query into the LLM\n",
    "        models = { \n",
    "            'llama_13b': 'a16z-infra/llama13b-v2-chat:df7690f1994d94e96ad9d568eac121aecf50684a0b0963b25a41cc40061269e5',\n",
    "            'mixtral': 'mistralai/mixtral-8x7b-instruct-v0.1',\n",
    "            'llama_70b': 'meta/llama-2-70b-chat:2796ee9483c3fd7aa2e171d38f4ca12251a30609463dcfd4cd76703f22e96cdf'\n",
    "        }\n",
    "\n",
    "        model = llm_rag.DocumentEmbeddingPipeline(model_version=models['mixtral'])\n",
    "        model.setup_environment()\n",
    "        model.prepare_documents(data_path=data_path, collection_name=\"ubaid_notes_2\", joining=True, persistent=False)\n",
    "        model.embed_and_index()\n",
    "\n",
    "        response = [model.query_data(query=transcript[i]['text']) for i in range(len(whisper_models))]\n",
    "\n",
    "        # Step 4: Translate it back to the user language\n",
    "        translated_text = machine_translation.translate_text(text=\" \".join(response), src_lang='en', trg_lang=transcript[0]['lang'])\n",
    "\n",
    "        # Step 5: Now speak the response in the user's language\n",
    "        answer_path = utils.generate_answer_path(original_path=audio_path)\n",
    "        text_to_speech.multilingual_text_to_speech(text=translated_text, filepath=answer_path)\n",
    "\n",
    "        display(Markdown(f\"<b>{translated_text}</b>\"))\n",
    "    except Exception as e:\n",
    "        print(\"An error occurred:\", e)"
   ]
  },
  {
   "cell_type": "code",
   "execution_count": null,
   "metadata": {},
   "outputs": [],
   "source": [
    "iface = gr.Interface(\n",
    "    fn=SMTS,\n",
    "    inputs=\"button\",  \n",
    "    outputs=\"text\"\n",
    ")"
   ]
  },
  {
   "cell_type": "code",
   "execution_count": null,
   "metadata": {},
   "outputs": [],
   "source": [
    "if __name__ == \"__main__\":\n",
    "    iface.launch(share=True)"
   ]
  }
 ],
 "metadata": {
  "kernelspec": {
   "display_name": "Python 3",
   "language": "python",
   "name": "python3"
  },
  "language_info": {
   "codemirror_mode": {
    "name": "ipython",
    "version": 3
   },
   "file_extension": ".py",
   "mimetype": "text/x-python",
   "name": "python",
   "nbconvert_exporter": "python",
   "pygments_lexer": "ipython3",
   "version": "3.11.7"
  }
 },
 "nbformat": 4,
 "nbformat_minor": 2
}
