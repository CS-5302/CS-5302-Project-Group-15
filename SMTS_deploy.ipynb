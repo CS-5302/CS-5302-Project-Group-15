{
 "cells": [
  {
   "cell_type": "code",
   "execution_count": 1,
   "metadata": {},
   "outputs": [],
   "source": [
    "import gradio as gr\n",
    "import importlib\n",
    "import os\n",
    "from IPython.display import Markdown\n",
    "from python_scripts import llm_rag, machine_translation, text_to_speech, whisper_setup, get_audio, utils\n",
    "import numpy as np\n",
    "from scipy.io.wavfile import write\n",
    "# r8_eYbLLc9wPQ1qa4dUK8eXyewFKHvGAck1h9LZl\n",
    "\n",
    "# Define paths dynamically\n",
    "PATH = os.getcwd().replace('\\\\\\\\', '/')\n",
    "root_path = PATH + '\\\\Datasets\\\\MeDAL'\n",
    "audio_path = PATH + '\\\\Datasets\\\\Audio_Files'"
   ]
  },
  {
   "cell_type": "code",
   "execution_count": 2,
   "metadata": {},
   "outputs": [
    {
     "data": {
      "text/plain": [
       "<module 'python_scripts.llm_rag' from 'c:\\\\Users\\\\Admin\\\\OneDrive\\\\Documents\\\\GitHub\\\\CS-5302-Project-Group-15\\\\python_scripts\\\\llm_rag.py'>"
      ]
     },
     "execution_count": 2,
     "metadata": {},
     "output_type": "execute_result"
    }
   ],
   "source": [
    "\n",
    "importlib.reload(llm_rag)\n",
    "# importlib.reload(machine_translation)\n",
    "# importlib.reload(text_to_speech)\n",
    "# importlib.reload(whisper_setup)\n",
    "# importlib.reload(get_audio)\n",
    "# importlib.reload(utils)\n"
   ]
  },
  {
   "cell_type": "code",
   "execution_count": 2,
   "metadata": {},
   "outputs": [],
   "source": [
    "def SMTS(audio):\n",
    "    try:\n",
    "\n",
    "        file_path = 'output.wav'\n",
    "        write(file_path, data = np.array(audio[1], dtype = np.int16), rate = audio[0])\n",
    "        audio_processed = utils.preprocess_audio(file_path)\n",
    "\n",
    "        # Step 2: Transcribe Query to English\n",
    "        whisper_models = [\"tiny\", \"base\", \"small\", \"medium\", \"large\"]\n",
    "        \n",
    "        transcript = whisper_setup.transcribe_audio(audio_processed, ['tiny'])\n",
    "\n",
    "        # Step 3: Feed query into the LLM\n",
    "        models = { \n",
    "        'llama_ours': 'ubaidtariq8/llama2-med-genai', # fine tuned model\n",
    "        'llama_13b': 'a16z-infra/llama13b-v2-chat:df7690f1994d94e96ad9d568eac121aecf50684a0b0963b25a41cc40061269e5',\n",
    "        'mixtral': 'mistralai/mixtral-8x7b-instruct-v0.1',\n",
    "        'llama_70b': 'meta/llama-2-70b-chat:2796ee9483c3fd7aa2e171d38f4ca12251a30609463dcfd4cd76703f22e96cdf'\n",
    "        }\n",
    "\n",
    "        model = llm_rag.DocumentEmbeddingPipeline(model_version = models['mixtral'], chroma_path = root_path)\n",
    "        model.setup_environment()\n",
    "        model.prepare_documents(collection_name = \"muqeem\", joining = True, persistent = True)\n",
    "        model.embed_and_index()\n",
    "        response = model.query_data(query = transcript['tiny'][2])\n",
    "\n",
    "        # # Step 4: Translate it back to the user language\n",
    "        translated_text = machine_translation.translate_text(text = response.response, src_lang = 'en', trg_lang = transcript['tiny'][0])\n",
    "        print(translated_text)\n",
    "        # Step 5: Now speak the response in the user's language\n",
    "        audio_answer_path = audio_path + '/audio.wav'\n",
    "        text_to_speech.multilingual_text_to_speech(text = translated_text, filepath = audio_answer_path)\n",
    "        utils.sasti_harkat(audio_answer_path)\n",
    "        # display(Markdown(f\"<b>{translated_text}</b>\"))\n",
    "        return transcript['tiny'][2], utils.play_wav(audio_answer_path)\n",
    "    except Exception as e:\n",
    "        print(\"An error occurred:\", e)"
   ]
  },
  {
   "cell_type": "code",
   "execution_count": 3,
   "metadata": {},
   "outputs": [
    {
     "name": "stdout",
     "output_type": "stream",
     "text": [
      "Running on local URL:  http://127.0.0.1:7860\n",
      "\n",
      "To create a public link, set `share=True` in `launch()`.\n"
     ]
    },
    {
     "data": {
      "text/html": [
       "<div><iframe src=\"http://127.0.0.1:7860/\" width=\"100%\" height=\"500\" allow=\"autoplay; camera; microphone; clipboard-read; clipboard-write;\" frameborder=\"0\" allowfullscreen></iframe></div>"
      ],
      "text/plain": [
       "<IPython.core.display.HTML object>"
      ]
     },
     "metadata": {},
     "output_type": "display_data"
    },
    {
     "data": {
      "text/plain": []
     },
     "execution_count": 3,
     "metadata": {},
     "output_type": "execute_result"
    },
    {
     "name": "stderr",
     "output_type": "stream",
     "text": [
      "Loading files: 100%|██████████| 2/2 [00:00<00:00, 28.48file/s]\n"
     ]
    },
    {
     "data": {
      "application/vnd.jupyter.widget-view+json": {
       "model_id": "85d4c807dd7e4746a90276906168e36a",
       "version_major": 2,
       "version_minor": 0
      },
      "text/plain": [
       "Parsing nodes:   0%|          | 0/2 [00:00<?, ?it/s]"
      ]
     },
     "metadata": {},
     "output_type": "display_data"
    },
    {
     "data": {
      "application/vnd.jupyter.widget-view+json": {
       "model_id": "815db478372b4bd4a86db0f9ff01672b",
       "version_major": 2,
       "version_minor": 0
      },
      "text/plain": [
       "Generating embeddings:   0%|          | 0/71 [00:00<?, ?it/s]"
      ]
     },
     "metadata": {},
     "output_type": "display_data"
    },
    {
     "name": "stdout",
     "output_type": "stream",
     "text": [
      "HELLO!\n",
      "Based on the information provided, it is possible that you may have influenza. However, please note that this is not a definitive diagnosis. It is crucial to consult with a healthcare professional for an accurate diagnosis and treatment.\n",
      "Based on the information provided, it is possible that you may have influenza. However, please note that this is not a definitive diagnosis. It is crucial to consult with a healthcare professional for an accurate diagnosis and treatment.\n",
      "!!\n",
      "Detected language: en\n",
      "Speech saved to c:\\Users\\Talha\\OneDrive - Higher Education Commission\\Documents\\GitHub\\CS-5302-Project-Group-15\\Datasets\\Audio_Files/audio.wav\n",
      "gg\n",
      "FGG\n"
     ]
    }
   ],
   "source": [
    "demo = gr.Interface(\n",
    "    SMTS,\n",
    "    gr.Audio(sources = [\"microphone\"]),\n",
    "    [\"text\", \"audio\"],\n",
    ")\n",
    "\n",
    "demo.launch()"
   ]
  },
  {
   "cell_type": "code",
   "execution_count": null,
   "metadata": {},
   "outputs": [],
   "source": []
  }
 ],
 "metadata": {
  "kernelspec": {
   "display_name": "Python 3",
   "language": "python",
   "name": "python3"
  },
  "language_info": {
   "codemirror_mode": {
    "name": "ipython",
    "version": 3
   },
   "file_extension": ".py",
   "mimetype": "text/x-python",
   "name": "python",
   "nbconvert_exporter": "python",
   "pygments_lexer": "ipython3",
   "version": "3.11.0"
  }
 },
 "nbformat": 4,
 "nbformat_minor": 2
}
