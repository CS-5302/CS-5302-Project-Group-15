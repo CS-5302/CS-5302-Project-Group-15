{
 "cells": [
  {
   "cell_type": "code",
   "execution_count": 4,
   "metadata": {},
   "outputs": [],
   "source": [
    "import gradio as gr\n",
    "import os\n",
    "from IPython.display import Markdown\n",
    "from python_scripts import llm_rag, machine_translation, text_to_speech, whisper_setup, get_audio, utils\n",
    "\n",
    "# Define paths dynamically\n",
    "PATH = os.getcwd().replace('\\\\\\\\', '/')\n",
    "root_path = PATH + '/Datasets/MeDAL'\n",
    "data_path = root_path + '/training_data(2).jsonl'"
   ]
  },
  {
   "cell_type": "code",
   "execution_count": 5,
   "metadata": {},
   "outputs": [],
   "source": [
    "def SMTS(audio):\n",
    "    try:    \n",
    "        # Step 2: Transcribe Query to English\n",
    "        whisper_models = [\"tiny\", \"base\", \"small\", \"medium\", \"large\"]\n",
    "        transcript = whisper_setup.transcribe_audio(audio, 'tiny')\n",
    "\n",
    "        # Step 3: Feed query into the LLM\n",
    "        models = { \n",
    "            'llama_ours': 'ubaidtariq8/llama2-med-genai',\n",
    "            'llama_13b': 'a16z-infra/llama13b-v2-chat:df7690f1994d94e96ad9d568eac121aecf50684a0b0963b25a41cc40061269e5',\n",
    "            'mixtral': 'mistralai/mixtral-8x7b-instruct-v0.1',\n",
    "            'llama_70b': 'meta/llama-2-70b-chat:2796ee9483c3fd7aa2e171d38f4ca12251a30609463dcfd4cd76703f22e96cdf'\n",
    "        }\n",
    "\n",
    "        model = llm_rag.DocumentEmbeddingPipeline(model_version = models['llama_ours'], chroma_path = root_path)\n",
    "        model.setup_environment()\n",
    "        model.prepare_documents(data_path = data_path, collection_name = \"medal_filtered\", joining = True, persistent = False)\n",
    "        model.embed_and_index()\n",
    "\n",
    "        response = [model.query_data(query = transcript['text'])]\n",
    "\n",
    "        # Step 4: Translate it back to the user language\n",
    "        translated_text = machine_translation.translate_text(text = \" \".join(response), src_lang = 'en', trg_lang = transcript['lang'])\n",
    "\n",
    "        # Step 5: Now speak the response in the user's language\n",
    "        # answer_path = utils.generate_answer_path(original_path = audio_path)\n",
    "        audio_answer_path = data_path + '/audio.wav'\n",
    "        text_to_speech.multilingual_text_to_speech(text = translated_text, filepath = audio_answer_path)\n",
    "\n",
    "        display(Markdown(f\"<b>{translated_text}</b>\"))\n",
    "        return display(Markdown(f\"<b>{translated_text}</b>\")), utils.play_wav(audio_answer_path)\n",
    "    except Exception as e:\n",
    "        print(\"An error occurred:\", e)"
   ]
  },
  {
   "cell_type": "code",
   "execution_count": 6,
   "metadata": {},
   "outputs": [
    {
     "name": "stdout",
     "output_type": "stream",
     "text": [
      "Running on local URL:  http://127.0.0.1:7861\n",
      "\n",
      "To create a public link, set `share=True` in `launch()`.\n"
     ]
    },
    {
     "data": {
      "text/html": [
       "<div><iframe src=\"http://127.0.0.1:7861/\" width=\"100%\" height=\"500\" allow=\"autoplay; camera; microphone; clipboard-read; clipboard-write;\" frameborder=\"0\" allowfullscreen></iframe></div>"
      ],
      "text/plain": [
       "<IPython.core.display.HTML object>"
      ]
     },
     "metadata": {},
     "output_type": "display_data"
    },
    {
     "data": {
      "text/plain": []
     },
     "execution_count": 6,
     "metadata": {},
     "output_type": "execute_result"
    },
    {
     "name": "stdout",
     "output_type": "stream",
     "text": [
      "An error occurred: Invalid model size 't', expected one of: tiny.en, tiny, base.en, base, small.en, small, medium.en, medium, large-v1, large-v2, large-v3, large, distil-large-v2, distil-medium.en, distil-small.en\n"
     ]
    },
    {
     "name": "stderr",
     "output_type": "stream",
     "text": [
      "Traceback (most recent call last):\n",
      "  File \"c:\\Users\\Talha\\AppData\\Local\\Programs\\Python\\Python311\\Lib\\site-packages\\gradio\\queueing.py\", line 527, in process_events\n",
      "    response = await route_utils.call_process_api(\n",
      "               ^^^^^^^^^^^^^^^^^^^^^^^^^^^^^^^^^^^\n",
      "  File \"c:\\Users\\Talha\\AppData\\Local\\Programs\\Python\\Python311\\Lib\\site-packages\\gradio\\route_utils.py\", line 261, in call_process_api\n",
      "    output = await app.get_blocks().process_api(\n",
      "             ^^^^^^^^^^^^^^^^^^^^^^^^^^^^^^^^^^^\n",
      "  File \"c:\\Users\\Talha\\AppData\\Local\\Programs\\Python\\Python311\\Lib\\site-packages\\gradio\\blocks.py\", line 1797, in process_api\n",
      "    data = await self.postprocess_data(fn_index, result[\"prediction\"], state)\n",
      "           ^^^^^^^^^^^^^^^^^^^^^^^^^^^^^^^^^^^^^^^^^^^^^^^^^^^^^^^^^^^^^^^^^^\n",
      "  File \"c:\\Users\\Talha\\AppData\\Local\\Programs\\Python\\Python311\\Lib\\site-packages\\gradio\\blocks.py\", line 1565, in postprocess_data\n",
      "    self.validate_outputs(fn_index, predictions)  # type: ignore\n",
      "    ^^^^^^^^^^^^^^^^^^^^^^^^^^^^^^^^^^^^^^^^^^^^\n",
      "  File \"c:\\Users\\Talha\\AppData\\Local\\Programs\\Python\\Python311\\Lib\\site-packages\\gradio\\blocks.py\", line 1539, in validate_outputs\n",
      "    raise ValueError(\n",
      "ValueError: An event handler (SMTS) didn't receive enough output values (needed: 2, received: 1).\n",
      "Wanted outputs:\n",
      "    [<gradio.components.number.Number object at 0x0000018C44C325D0>, <gradio.components.audio.Audio object at 0x0000018C44D49150>]\n",
      "Received outputs:\n",
      "    [None]\n"
     ]
    }
   ],
   "source": [
    "demo = gr.Interface(\n",
    "    SMTS,\n",
    "    gr.Audio(sources = [\"microphone\"]),\n",
    "    [\"number\", \"audio\"],\n",
    ")\n",
    "\n",
    "demo.launch()\n"
   ]
  },
  {
   "cell_type": "code",
   "execution_count": null,
   "metadata": {},
   "outputs": [],
   "source": []
  }
 ],
 "metadata": {
  "kernelspec": {
   "display_name": "Python 3",
   "language": "python",
   "name": "python3"
  },
  "language_info": {
   "codemirror_mode": {
    "name": "ipython",
    "version": 3
   },
   "file_extension": ".py",
   "mimetype": "text/x-python",
   "name": "python",
   "nbconvert_exporter": "python",
   "pygments_lexer": "ipython3",
   "version": "3.11.0"
  }
 },
 "nbformat": 4,
 "nbformat_minor": 2
}
