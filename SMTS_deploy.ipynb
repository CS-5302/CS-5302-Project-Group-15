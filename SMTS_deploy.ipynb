{
 "cells": [
  {
   "cell_type": "code",
   "execution_count": 1,
   "metadata": {},
   "outputs": [
    {
     "name": "stdout",
     "output_type": "stream",
     "text": [
      "c:\\Users\\Admin\\OneDrive\\Documents\\GitHub\\CS-5302-Project-Group-15\\Datasets\\MeDAL\\training_data(2).jsonl\n"
     ]
    }
   ],
   "source": [
    "import gradio as gr\n",
    "import importlib\n",
    "import os\n",
    "from IPython.display import Markdown\n",
    "from python_scripts import llm_rag, machine_translation, text_to_speech, whisper_setup, get_audio, utils\n",
    "import numpy as np\n",
    "from scipy.io.wavfile import write\n",
    "# r8_eYbLLc9wPQ1qa4dUK8eXyewFKHvGAck1h9LZl\n",
    "\n",
    "# Define paths dynamically\n",
    "PATH = os.getcwd().replace('\\\\\\\\', '/')\n",
    "root_path = PATH + '\\\\Datasets\\\\MeDAL'\n",
    "data_path = root_path + '\\\\training_data(2).jsonl'\n",
    "print(data_path)\n",
    "audio_path = PATH + '\\\\Datasets\\\\Audio_Files'"
   ]
  },
  {
   "cell_type": "code",
   "execution_count": 2,
   "metadata": {},
   "outputs": [
    {
     "data": {
      "text/plain": [
       "<module 'python_scripts.llm_rag' from 'c:\\\\Users\\\\Admin\\\\OneDrive\\\\Documents\\\\GitHub\\\\CS-5302-Project-Group-15\\\\python_scripts\\\\llm_rag.py'>"
      ]
     },
     "execution_count": 2,
     "metadata": {},
     "output_type": "execute_result"
    }
   ],
   "source": [
    "\n",
    "importlib.reload(llm_rag)\n",
    "# importlib.reload(machine_translation)\n",
    "# importlib.reload(text_to_speech)\n",
    "# importlib.reload(whisper_setup)\n",
    "# importlib.reload(get_audio)\n",
    "# importlib.reload(utils)\n"
   ]
  },
  {
   "cell_type": "code",
   "execution_count": 3,
   "metadata": {},
   "outputs": [],
   "source": [
    "def SMTS(audio):\n",
    "    try:\n",
    "\n",
    "        file_path = 'output.wav'\n",
    "        write(file_path, data = np.array(audio[1], dtype = np.int16), rate = audio[0])\n",
    "        audio_processed = utils.preprocess_audio(file_path)\n",
    "\n",
    "        # Step 2: Transcribe Query to English\n",
    "        whisper_models = [\"tiny\", \"base\", \"small\", \"medium\", \"large\"]\n",
    "        \n",
    "        transcript = whisper_setup.transcribe_audio(audio_processed, ['tiny'])\n",
    "\n",
    "        # Step 3: Feed query into the LLM\n",
    "        models = { \n",
    "        'llama_ours': 'ubaidtariq8/llama2-med-genai', # fine tuned model\n",
    "        'llama_13b': 'a16z-infra/llama13b-v2-chat:df7690f1994d94e96ad9d568eac121aecf50684a0b0963b25a41cc40061269e5',\n",
    "        'mixtral': 'mistralai/mixtral-8x7b-instruct-v0.1',\n",
    "        'llama_70b': 'meta/llama-2-70b-chat:2796ee9483c3fd7aa2e171d38f4ca12251a30609463dcfd4cd76703f22e96cdf'\n",
    "        }\n",
    "\n",
    "        print(\"0\")\n",
    "        model = llm_rag.DocumentEmbeddingPipeline(model_version = models['mixtral'], chroma_path = root_path)\n",
    "        print(\"1\")\n",
    "        model.setup_environment()\n",
    "        print(\"2\")\n",
    "        model.prepare_documents(data_path = data_path, collection_name = \"muqeen\", joining = True, persistent = False)\n",
    "        print(\"3\")\n",
    "        model.embed_and_index()\n",
    "\n",
    "        print(\"4\")\n",
    "        response = model.query_data(query = transcript['tiny'])\n",
    "        print(\"5\")\n",
    "\n",
    "        # # Step 4: Translate it back to the user language\n",
    "        translated_text = machine_translation.translate_text(text = \" \".join(response), src_lang = 'en', trg_lang = transcript['lang'])\n",
    "\n",
    "        # Step 5: Now speak the response in the user's language\n",
    "        audio_answer_path = audio_path + '/audio.wav'\n",
    "        text_to_speech.multilingual_text_to_speech(text = translated_text, filepath = audio_answer_path)\n",
    "        utils.sasti_harkat(audio_answer_path)\n",
    "        # display(Markdown(f\"<b>{translated_text}</b>\"))\n",
    "        return transcript['tiny'], utils.play_wav(audio_answer_path)\n",
    "    except Exception as e:\n",
    "        print(\"An error occurred:\", e)"
   ]
  },
  {
   "cell_type": "code",
   "execution_count": 4,
   "metadata": {},
   "outputs": [
    {
     "name": "stdout",
     "output_type": "stream",
     "text": [
      "Running on local URL:  http://127.0.0.1:7860\n",
      "\n",
      "To create a public link, set `share=True` in `launch()`.\n"
     ]
    },
    {
     "data": {
      "text/html": [
       "<div><iframe src=\"http://127.0.0.1:7860/\" width=\"100%\" height=\"500\" allow=\"autoplay; camera; microphone; clipboard-read; clipboard-write;\" frameborder=\"0\" allowfullscreen></iframe></div>"
      ],
      "text/plain": [
       "<IPython.core.display.HTML object>"
      ]
     },
     "metadata": {},
     "output_type": "display_data"
    },
    {
     "data": {
      "text/plain": []
     },
     "execution_count": 4,
     "metadata": {},
     "output_type": "execute_result"
    },
    {
     "name": "stderr",
     "output_type": "stream",
     "text": [
      "ERROR:    Exception in ASGI application\n",
      "Traceback (most recent call last):\n",
      "  File \"c:\\Users\\Admin\\anaconda3\\envs\\genAI\\Lib\\site-packages\\uvicorn\\protocols\\http\\httptools_impl.py\", line 411, in run_asgi\n",
      "    result = await app(  # type: ignore[func-returns-value]\n",
      "             ^^^^^^^^^^^^^^^^^^^^^^^^^^^^^^^^^^^^^^^^^^^^^^\n",
      "  File \"c:\\Users\\Admin\\anaconda3\\envs\\genAI\\Lib\\site-packages\\uvicorn\\middleware\\proxy_headers.py\", line 69, in __call__\n",
      "    return await self.app(scope, receive, send)\n",
      "           ^^^^^^^^^^^^^^^^^^^^^^^^^^^^^^^^^^^^\n",
      "  File \"c:\\Users\\Admin\\anaconda3\\envs\\genAI\\Lib\\site-packages\\fastapi\\applications.py\", line 1054, in __call__\n",
      "    await super().__call__(scope, receive, send)\n",
      "  File \"c:\\Users\\Admin\\anaconda3\\envs\\genAI\\Lib\\site-packages\\starlette\\applications.py\", line 123, in __call__\n",
      "    await self.middleware_stack(scope, receive, send)\n",
      "  File \"c:\\Users\\Admin\\anaconda3\\envs\\genAI\\Lib\\site-packages\\starlette\\middleware\\errors.py\", line 186, in __call__\n",
      "    raise exc\n",
      "  File \"c:\\Users\\Admin\\anaconda3\\envs\\genAI\\Lib\\site-packages\\starlette\\middleware\\errors.py\", line 164, in __call__\n",
      "    await self.app(scope, receive, _send)\n",
      "  File \"c:\\Users\\Admin\\anaconda3\\envs\\genAI\\Lib\\site-packages\\gradio\\route_utils.py\", line 689, in __call__\n",
      "    await self.app(scope, receive, send)\n",
      "  File \"c:\\Users\\Admin\\anaconda3\\envs\\genAI\\Lib\\site-packages\\starlette\\middleware\\exceptions.py\", line 65, in __call__\n",
      "    await wrap_app_handling_exceptions(self.app, conn)(scope, receive, send)\n",
      "  File \"c:\\Users\\Admin\\anaconda3\\envs\\genAI\\Lib\\site-packages\\starlette\\_exception_handler.py\", line 64, in wrapped_app\n",
      "    raise exc\n",
      "  File \"c:\\Users\\Admin\\anaconda3\\envs\\genAI\\Lib\\site-packages\\starlette\\_exception_handler.py\", line 53, in wrapped_app\n",
      "    await app(scope, receive, sender)\n",
      "  File \"c:\\Users\\Admin\\anaconda3\\envs\\genAI\\Lib\\site-packages\\starlette\\routing.py\", line 756, in __call__\n",
      "    await self.middleware_stack(scope, receive, send)\n",
      "  File \"c:\\Users\\Admin\\anaconda3\\envs\\genAI\\Lib\\site-packages\\starlette\\routing.py\", line 776, in app\n",
      "    await route.handle(scope, receive, send)\n",
      "  File \"c:\\Users\\Admin\\anaconda3\\envs\\genAI\\Lib\\site-packages\\starlette\\routing.py\", line 297, in handle\n",
      "    await self.app(scope, receive, send)\n",
      "  File \"c:\\Users\\Admin\\anaconda3\\envs\\genAI\\Lib\\site-packages\\starlette\\routing.py\", line 77, in app\n",
      "    await wrap_app_handling_exceptions(app, request)(scope, receive, send)\n",
      "  File \"c:\\Users\\Admin\\anaconda3\\envs\\genAI\\Lib\\site-packages\\starlette\\_exception_handler.py\", line 64, in wrapped_app\n",
      "    raise exc\n",
      "  File \"c:\\Users\\Admin\\anaconda3\\envs\\genAI\\Lib\\site-packages\\starlette\\_exception_handler.py\", line 53, in wrapped_app\n",
      "    await app(scope, receive, sender)\n",
      "  File \"c:\\Users\\Admin\\anaconda3\\envs\\genAI\\Lib\\site-packages\\starlette\\routing.py\", line 75, in app\n",
      "    await response(scope, receive, send)\n",
      "  File \"c:\\Users\\Admin\\anaconda3\\envs\\genAI\\Lib\\site-packages\\starlette\\responses.py\", line 352, in __call__\n",
      "    await send(\n",
      "  File \"c:\\Users\\Admin\\anaconda3\\envs\\genAI\\Lib\\site-packages\\starlette\\_exception_handler.py\", line 50, in sender\n",
      "    await send(message)\n",
      "  File \"c:\\Users\\Admin\\anaconda3\\envs\\genAI\\Lib\\site-packages\\starlette\\_exception_handler.py\", line 50, in sender\n",
      "    await send(message)\n",
      "  File \"c:\\Users\\Admin\\anaconda3\\envs\\genAI\\Lib\\site-packages\\starlette\\middleware\\errors.py\", line 161, in _send\n",
      "    await send(message)\n",
      "  File \"c:\\Users\\Admin\\anaconda3\\envs\\genAI\\Lib\\site-packages\\uvicorn\\protocols\\http\\httptools_impl.py\", line 549, in send\n",
      "    raise RuntimeError(\"Response content shorter than Content-Length\")\n",
      "RuntimeError: Response content shorter than Content-Length\n"
     ]
    },
    {
     "name": "stdout",
     "output_type": "stream",
     "text": [
      "0\n",
      "1\n",
      "2\n",
      "talha muqeem\n",
      "[]\n",
      "collection nahi hai\n",
      "c:\\Users\\Admin\\OneDrive\\Documents\\GitHub\\CS-5302-Project-Group-15\\Datasets\\MeDAL\\diagnosis_data_combined.jsonl\n",
      "c:\\Users\\Admin\\OneDrive\\Documents\\GitHub\\CS-5302-Project-Group-15\\Datasets\\MeDAL\\training_data(2).jsonl\n",
      "RR\n",
      "An error occurred: No files found in c:\\Users\\Admin\\OneDrive\\Documents\\GitHub\\CS-5302-Project-Group-15\\Datasets\\MeDAL.\n"
     ]
    },
    {
     "name": "stderr",
     "output_type": "stream",
     "text": [
      "Traceback (most recent call last):\n",
      "  File \"c:\\Users\\Admin\\anaconda3\\envs\\genAI\\Lib\\site-packages\\gradio\\queueing.py\", line 527, in process_events\n",
      "    response = await route_utils.call_process_api(\n",
      "               ^^^^^^^^^^^^^^^^^^^^^^^^^^^^^^^^^^^\n",
      "  File \"c:\\Users\\Admin\\anaconda3\\envs\\genAI\\Lib\\site-packages\\gradio\\route_utils.py\", line 261, in call_process_api\n",
      "    output = await app.get_blocks().process_api(\n",
      "             ^^^^^^^^^^^^^^^^^^^^^^^^^^^^^^^^^^^\n",
      "  File \"c:\\Users\\Admin\\anaconda3\\envs\\genAI\\Lib\\site-packages\\gradio\\blocks.py\", line 1797, in process_api\n",
      "    data = await self.postprocess_data(fn_index, result[\"prediction\"], state)\n",
      "           ^^^^^^^^^^^^^^^^^^^^^^^^^^^^^^^^^^^^^^^^^^^^^^^^^^^^^^^^^^^^^^^^^^\n",
      "  File \"c:\\Users\\Admin\\anaconda3\\envs\\genAI\\Lib\\site-packages\\gradio\\blocks.py\", line 1565, in postprocess_data\n",
      "    self.validate_outputs(fn_index, predictions)  # type: ignore\n",
      "    ^^^^^^^^^^^^^^^^^^^^^^^^^^^^^^^^^^^^^^^^^^^^\n",
      "  File \"c:\\Users\\Admin\\anaconda3\\envs\\genAI\\Lib\\site-packages\\gradio\\blocks.py\", line 1539, in validate_outputs\n",
      "    raise ValueError(\n",
      "ValueError: An event handler (SMTS) didn't receive enough output values (needed: 2, received: 1).\n",
      "Wanted outputs:\n",
      "    [<gradio.components.textbox.Textbox object at 0x0000019EFF5F0990>, <gradio.components.audio.Audio object at 0x0000019EFF157B90>]\n",
      "Received outputs:\n",
      "    [None]\n"
     ]
    }
   ],
   "source": [
    "demo = gr.Interface(\n",
    "    SMTS,\n",
    "    gr.Audio(sources = [\"microphone\"]),\n",
    "    [\"text\", \"audio\"],\n",
    ")\n",
    "\n",
    "demo.launch()"
   ]
  },
  {
   "cell_type": "code",
   "execution_count": null,
   "metadata": {},
   "outputs": [],
   "source": [
    "C:\\Users\\Admin\\OneDrive\\Documents\\GitHub\\CS-5302-Project-Group-15\\Datasets\\MeDAL"
   ]
  }
 ],
 "metadata": {
  "kernelspec": {
   "display_name": "Python 3",
   "language": "python",
   "name": "python3"
  },
  "language_info": {
   "codemirror_mode": {
    "name": "ipython",
    "version": 3
   },
   "file_extension": ".py",
   "mimetype": "text/x-python",
   "name": "python",
   "nbconvert_exporter": "python",
   "pygments_lexer": "ipython3",
   "version": "3.11.0"
  }
 },
 "nbformat": 4,
 "nbformat_minor": 2
}
