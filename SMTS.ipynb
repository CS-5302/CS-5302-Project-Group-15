{
 "cells": [
  {
   "cell_type": "code",
   "execution_count": 10,
   "metadata": {},
   "outputs": [],
   "source": [
    "# data_path = 'E:/GitHub/CS-5302-Project-Group-15/Datasets/'\n",
    "\n",
    "import os \n",
    "# PATH = 'C:/Users/Talha/OneDrive - Higher Education Commission/Documents/GitHub/CS-5302-Project-Group-15/'\n",
    "# os.chdir(PATH)\n",
    "from IPython.display import Markdown\n",
    "from python_scripts import llm_rag\n",
    "from python_scripts import machine_translation\n",
    "from python_scripts import text_to_speech\n",
    "from python_scripts import whisper_setup\n",
    "from python_scripts import llm_rag\n",
    "from python_scripts import get_audio\n",
    "from python_scripts import utils\n",
    "\n",
    "PATH = os.getcwd()\n",
    "data_path = PATH + '\\\\Datasets\\\\MeDAL\\\\' # maybe CAPS 'data_path' too"
   ]
  },
  {
   "cell_type": "code",
   "execution_count": 8,
   "metadata": {},
   "outputs": [
    {
     "name": "stdout",
     "output_type": "stream",
     "text": [
      "Press Enter to start recording.\n",
      "Recording started. Press Enter to stop recording.\n",
      "Stopping recording...\n",
      "Recording stopped and saved to C:/Users/Talha/OneDrive - Higher Education Commission/Documents/GitHub/CS-5302-Project-Group-15/Datasets/Audio_Files\\Talha Ahmed_23_M\\Talha Ahmed_23_M_Query_3.wav\n"
     ]
    }
   ],
   "source": [
    "# Step 1: Get Query from Audio\n",
    "audio_path = utils.record_audio()\n"
   ]
  },
  {
   "cell_type": "code",
   "execution_count": 2,
   "metadata": {},
   "outputs": [
    {
     "data": {
      "text/plain": [
       "'C:/Users/Talha/OneDrive - Higher Education Commission/Documents/GitHub/CS-5302-Project-Group-15/Datasets/Audio_Files\\\\Talha Ahmed_23_M'"
      ]
     },
     "execution_count": 2,
     "metadata": {},
     "output_type": "execute_result"
    }
   ],
   "source": [
    "audio_path = 'C:/Users/Talha/OneDrive - Higher Education Commission/Documents/GitHub/CS-5302-Project-Group-15/Datasets/Audio_Files\\Talha Ahmed_23_M\\Talha Ahmed_23_M_Query_3.wav'\n",
    "os.path.dirname(audio_path)"
   ]
  },
  {
   "cell_type": "code",
   "execution_count": null,
   "metadata": {},
   "outputs": [],
   "source": [
    "# Step 2: Transcribe Query to English\n",
    "# List of Whisper models to use for transcription\n",
    "whisper_models = [\"tiny\", \"base\", \"small\", \"medium\", \"large\"]\n",
    "\n",
    "# Transcribe the audio file using the specified models\n",
    "transcript = whisper_setup.transcribe_audio(audio_path, whisper_models)"
   ]
  },
  {
   "cell_type": "code",
   "execution_count": null,
   "metadata": {},
   "outputs": [],
   "source": [
    "# Step 3: Feed query into the LLM"
   ]
  },
  {
   "cell_type": "code",
   "execution_count": 2,
   "metadata": {},
   "outputs": [],
   "source": [
    "# Not an exhaustive list\n",
    "models = { \n",
    "    'llama_13b': 'a16z-infra/llama13b-v2-chat:df7690f1994d94e96ad9d568eac121aecf50684a0b0963b25a41cc40061269e5',\n",
    "    'mixtral': 'mistralai/mixtral-8x7b-instruct-v0.1',\n",
    "    'llama_70b': 'meta/llama-2-70b-chat:2796ee9483c3fd7aa2e171d38f4ca12251a30609463dcfd4cd76703f22e96cdf'\n",
    "}"
   ]
  },
  {
   "cell_type": "code",
   "execution_count": null,
   "metadata": {},
   "outputs": [],
   "source": [
    "model = llm_rag.DocumentEmbeddingPipeline(\n",
    "    model_version = models['mixtral'] # change this to experiment with different models available on replicate\n",
    ")\n",
    "model.setup_environment()\n",
    "model.prepare_documents(data_path = data_path, collection_name = \"ubaid_notes_2\",  joining = True, persistent = False)\n",
    "model.embed_and_index()"
   ]
  },
  {
   "cell_type": "code",
   "execution_count": null,
   "metadata": {},
   "outputs": [],
   "source": [
    "# response = model.query_data(query = \"What is midwifery according to Evans? Explain in detail\")\n",
    "response = []\n",
    "response = [model.query_data(query = transcript[i]['text']) for i in range(len(whisper_models))]\n",
    "display(Markdown(f\"<b>{response}</b>\"))"
   ]
  },
  {
   "cell_type": "code",
   "execution_count": null,
   "metadata": {},
   "outputs": [],
   "source": [
    "# Step 4: Translate it back to the user language\n",
    "\n",
    "translated_text = machine_translation.translate_text(text = response, src_lang = 'en', trg_lang = transcript[0]['lang'])"
   ]
  },
  {
   "cell_type": "code",
   "execution_count": null,
   "metadata": {},
   "outputs": [],
   "source": [
    "# Step 5: Now speak the response in the user's language\n",
    "answer_path = utils.generate_answer_path(original_path = audio_path)\n",
    "text_to_speech.multilingual_text_to_speech(text = translated_text, filepath = answer_path)"
   ]
  }
 ],
 "metadata": {
  "kernelspec": {
   "display_name": "Python 3",
   "language": "python",
   "name": "python3"
  },
  "language_info": {
   "codemirror_mode": {
    "name": "ipython",
    "version": 3
   },
   "file_extension": ".py",
   "mimetype": "text/x-python",
   "name": "python",
   "nbconvert_exporter": "python",
   "pygments_lexer": "ipython3",
   "version": "3.12.2"
  }
 },
 "nbformat": 4,
 "nbformat_minor": 2
}
