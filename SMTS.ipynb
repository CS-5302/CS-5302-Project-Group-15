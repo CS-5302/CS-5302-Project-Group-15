{
 "cells": [
  {
   "cell_type": "code",
   "execution_count": 1,
   "metadata": {},
   "outputs": [],
   "source": [
    "# data_path = 'E:/GitHub/CS-5302-Project-Group-15/Datasets/'\n",
    "\n",
    "import os \n",
    "# PATH = 'C:/Users/Talha/OneDrive - Higher Education Commission/Documents/GitHub/CS-5302-Project-Group-15/'\n",
    "# os.chdir(PATH)\n",
    "from IPython.display import Markdown\n",
    "from python_scripts import llm_rag\n",
    "from python_scripts import machine_translation\n",
    "from python_scripts import text_to_speech\n",
    "from python_scripts import whisper_setup\n",
    "from python_scripts import llm_rag\n",
    "from python_scripts import get_audio\n",
    "from python_scripts import utils\n",
    "\n",
    "PATH = os.getcwd().replace('\\\\', '/')\n",
    "root_path = PATH + '/Datasets/MeDAL' # maybe CAPS 'data_path' too\n",
    "data_path = root_path + '/training_data(2).jsonl'\n",
    "\n",
    "\n",
    "# import replicate\n",
    "\n",
    "# deployment = replicate.deployments.get(\"ubaidtariq8/llama2-med-genai\")\n",
    "# prediction = deployment.predictions.create(\n",
    "#   input={\"prompt\": \"...\"}\n",
    "# )\n",
    "# prediction.wait()\n",
    "# print(prediction.output)"
   ]
  },
  {
   "cell_type": "code",
   "execution_count": 2,
   "metadata": {},
   "outputs": [],
   "source": [
    "# Not an exhaustive list\n",
    "models = { \n",
    "    'llama_ours' : 'ubaidtariq8/llama2-med-genai',\n",
    "    'llama_13b': 'a16z-infra/llama13b-v2-chat:df7690f1994d94e96ad9d568eac121aecf50684a0b0963b25a41cc40061269e5',\n",
    "    'mixtral': 'mistralai/mixtral-8x7b-instruct-v0.1',\n",
    "    'llama_70b': 'meta/llama-2-70b-chat:2796ee9483c3fd7aa2e171d38f4ca12251a30609463dcfd4cd76703f22e96cdf'\n",
    "}"
   ]
  },
  {
   "cell_type": "code",
   "execution_count": null,
   "metadata": {},
   "outputs": [],
   "source": [
    "model = llm_rag.DocumentEmbeddingPipeline(\n",
    "    model_version = models['llama_ours'], chroma_path = root_path # change this to experiment with different models available on replicate\n",
    ")\n",
    "model.setup_environment()\n",
    "model.prepare_documents(data_path = data_path, collection_name = \"medal_filtered\",  joining = False, persistent = True)\n",
    "model.embed_and_index()"
   ]
  }
 ],
 "metadata": {
  "kernelspec": {
   "display_name": "Python 3",
   "language": "python",
   "name": "python3"
  },
  "language_info": {
   "codemirror_mode": {
    "name": "ipython",
    "version": 3
   },
   "file_extension": ".py",
   "mimetype": "text/x-python",
   "name": "python",
   "nbconvert_exporter": "python",
   "pygments_lexer": "ipython3",
   "version": "3.11.0"
  }
 },
 "nbformat": 4,
 "nbformat_minor": 2
}
