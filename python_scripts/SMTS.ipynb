{
 "cells": [
  {
   "cell_type": "code",
   "execution_count": 14,
   "metadata": {},
   "outputs": [
    {
     "name": "stderr",
     "output_type": "stream",
     "text": [
      "c:\\Users\\Faizan\\AppData\\Local\\Programs\\Python\\Python37\\lib\\site-packages\\tqdm\\auto.py:21: TqdmWarning: IProgress not found. Please update jupyter and ipywidgets. See https://ipywidgets.readthedocs.io/en/stable/user_install.html\n",
      "  from .autonotebook import tqdm as notebook_tqdm\n"
     ]
    }
   ],
   "source": [
    "from python_scripts import machine_translation"
   ]
  },
  {
   "cell_type": "code",
   "execution_count": 16,
   "metadata": {},
   "outputs": [
    {
     "name": "stderr",
     "output_type": "stream",
     "text": [
      "Downloading source.spm: 100%|██████████| 802k/802k [00:00<00:00, 1.08MB/s]\n",
      "Downloading target.spm: 100%|██████████| 778k/778k [00:00<00:00, 5.04MB/s]\n",
      "Downloading vocab.json: 100%|██████████| 1.34M/1.34M [00:01<00:00, 1.30MB/s]\n",
      "Downloading tokenizer_config.json: 100%|██████████| 42.0/42.0 [00:00<00:00, 2.83kB/s]\n",
      "Downloading config.json: 100%|██████████| 1.42k/1.42k [00:00<00:00, 116kB/s]\n",
      "Downloading pytorch_model.bin: 100%|██████████| 301M/301M [02:00<00:00, 2.49MB/s] \n",
      "Downloading generation_config.json: 100%|██████████| 293/293 [00:00<00:00, 17.2kB/s]\n"
     ]
    },
    {
     "data": {
      "text/plain": [
       "\"Today, it's Saturday, we visit our grandmother. She's 84 and she lives in Antibes. I love my grandmother, she's very nice. She makes good cakes.\""
      ]
     },
     "execution_count": 16,
     "metadata": {},
     "output_type": "execute_result"
    }
   ],
   "source": [
    "sample_text_fr = 'Aujourd’hui, on est samedi, nous rendons visite à notre grand-mère. Elle a 84 ans et elle habite à Antibes. J’adore ma grand-mère, elle est très gentille. Elle fait des bons gâteaux.'\n",
    "machine_translation.translate_text(sample_text_fr, \"fr\", \"en\")"
   ]
  }
 ],
 "metadata": {
  "kernelspec": {
   "display_name": "Python 3",
   "language": "python",
   "name": "python3"
  },
  "language_info": {
   "codemirror_mode": {
    "name": "ipython",
    "version": 3
   },
   "file_extension": ".py",
   "mimetype": "text/x-python",
   "name": "python",
   "nbconvert_exporter": "python",
   "pygments_lexer": "ipython3",
   "version": "3.7.8"
  }
 },
 "nbformat": 4,
 "nbformat_minor": 2
}
