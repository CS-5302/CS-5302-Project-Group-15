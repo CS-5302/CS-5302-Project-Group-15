{
 "cells": [
  {
   "cell_type": "code",
   "execution_count": 1,
   "metadata": {},
   "outputs": [],
   "source": [
    "data_path = 'E:/GitHub/CS-5302-Project-Group-15/Datasets/'\n",
    "\n",
    "import os \n",
    "PATH = 'E:/GitHub/CS-5302-Project-Group-15/'\n",
    "os.chdir(PATH)\n",
    "from IPython.display import Markdown\n",
    "from python_scripts import llm_rag"
   ]
  },
  {
   "cell_type": "code",
   "execution_count": 2,
   "metadata": {},
   "outputs": [],
   "source": [
    "# Not an exhaustive list\n",
    "models = { \n",
    "    'llama_13b': 'a16z-infra/llama13b-v2-chat:df7690f1994d94e96ad9d568eac121aecf50684a0b0963b25a41cc40061269e5',\n",
    "    'mixtral': 'mistralai/mixtral-8x7b-instruct-v0.1',\n",
    "    'llama_70b': 'meta/llama-2-70b-chat:2796ee9483c3fd7aa2e171d38f4ca12251a30609463dcfd4cd76703f22e96cdf'\n",
    "}\n"
   ]
  },
  {
   "cell_type": "code",
   "execution_count": 3,
   "metadata": {},
   "outputs": [],
   "source": [
    "model = llm_rag.DocumentEmbeddingPipeline(\n",
    "    model_version = models['mixtral'] # change this to experiment with different models available on replicate\n",
    ")\n",
    "model.setup_environment()\n",
    "model.prepare_documents(path = data_path, collection_name = \"ubaid_notes_2\", persistent = False)\n",
    "model.embed_and_index()"
   ]
  },
  {
   "cell_type": "code",
   "execution_count": 4,
   "metadata": {},
   "outputs": [
    {
     "data": {
      "text/markdown": [
       "<b> Midwifery, as described by Evans, is a particular approach to state intervention in the economy. In this approach, the state acts as a facilitator, assisting in the emergence of new entrepreneurial groups or encouraging existing ones to venture into more challenging kinds of production. \n",
       "\n",
       "The state doesn't directly take over the process of production, but rather, it provides support and guidance to foster the growth and development of these groups. This could involve a range of activities, from providing information and resources, to creating an enabling environment that encourages entrepreneurship and innovation.\n",
       "\n",
       "The goal of midwifery is not to replace private capital, but rather to create a synergistic relationship with entrepreneurs and potential entrepreneurs. This approach recognizes the importance of private initiative and innovation in driving economic growth, while also acknowledging the role that the state can play in facilitating and supporting these processes.\n",
       "\n",
       "It's important to note that Evans suggests that most states combine several roles in the same sector, and the sectoral outcome depends on how these roles are combined. Therefore, midwifery is just one of the ways in which the state can engage with the economy, and its effectiveness will depend on the specific context and how it is implemented in conjunction with other approaches.</b>"
      ],
      "text/plain": [
       "<IPython.core.display.Markdown object>"
      ]
     },
     "metadata": {},
     "output_type": "display_data"
    }
   ],
   "source": [
    "response = model.query_data(query= \"What is midwifery according to Evans? Explain in detail\")\n",
    "display(Markdown(f\"<b>{response}</b>\"))"
   ]
  },
  {
   "cell_type": "code",
   "execution_count": null,
   "metadata": {},
   "outputs": [],
   "source": []
  }
 ],
 "metadata": {
  "kernelspec": {
   "display_name": "Python 3",
   "language": "python",
   "name": "python3"
  },
  "language_info": {
   "codemirror_mode": {
    "name": "ipython",
    "version": 3
   },
   "file_extension": ".py",
   "mimetype": "text/x-python",
   "name": "python",
   "nbconvert_exporter": "python",
   "pygments_lexer": "ipython3",
   "version": "3.11.8"
  }
 },
 "nbformat": 4,
 "nbformat_minor": 2
}
