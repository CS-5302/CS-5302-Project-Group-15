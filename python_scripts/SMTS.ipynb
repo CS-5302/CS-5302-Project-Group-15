{
 "cells": [
  {
   "cell_type": "code",
   "execution_count": 1,
   "metadata": {},
   "outputs": [],
   "source": [
    "data_path = 'E:/GitHub/CS-5302-Project-Group-15/Datasets/'\n",
    "\n",
    "import os \n",
    "PATH = 'E:/GitHub/CS-5302-Project-Group-15/'\n",
    "os.chdir(PATH)\n",
    "from IPython.display import Markdown\n",
    "from python_scripts import llm_rag"
   ]
  },
  {
   "cell_type": "code",
   "execution_count": 2,
   "metadata": {},
   "outputs": [],
   "source": [
    "model = llm_rag.DocumentEmbeddingPipeline()\n",
    "model.setup_environment()\n",
    "model.prepare_documents(path = data_path, collection_name = \"ubaid_notes_2\", persistent = False)\n",
    "model.embed_and_index()\n",
    "response = model.query_data(query= \"What is the topic for Week 2 Notes?\")"
   ]
  },
  {
   "cell_type": "code",
   "execution_count": 3,
   "metadata": {},
   "outputs": [
    {
     "data": {
      "text/markdown": [
       "<b>The topic for Week 2 Notes is the Capitalocene and electrification, and how the state-led moral project of energy expansion in postcolonial countries challenges the thesis of a simple relationship between colonialism and the spread of fossil capitalism. Additionally, the critique that the responsibility for present climate doom lies in the commodification of nature at the hands of a narrow capitalist elite, and how this view is centered around Britain in the First Industrial Revolution and the rest of the world merely appears in these accounts as a passive receptacle.</b>"
      ],
      "text/plain": [
       "<IPython.core.display.Markdown object>"
      ]
     },
     "metadata": {},
     "output_type": "display_data"
    }
   ],
   "source": [
    "display(Markdown(f\"<b>{response}</b>\"))"
   ]
  },
  {
   "cell_type": "code",
   "execution_count": null,
   "metadata": {},
   "outputs": [],
   "source": []
  }
 ],
 "metadata": {
  "kernelspec": {
   "display_name": "Python 3",
   "language": "python",
   "name": "python3"
  },
  "language_info": {
   "codemirror_mode": {
    "name": "ipython",
    "version": 3
   },
   "file_extension": ".py",
   "mimetype": "text/x-python",
   "name": "python",
   "nbconvert_exporter": "python",
   "pygments_lexer": "ipython3",
   "version": "3.11.8"
  }
 },
 "nbformat": 4,
 "nbformat_minor": 2
}
