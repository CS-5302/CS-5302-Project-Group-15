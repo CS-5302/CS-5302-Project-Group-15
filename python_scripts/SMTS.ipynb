{
 "cells": [
  {
   "cell_type": "code",
   "execution_count": 1,
   "metadata": {},
   "outputs": [],
   "source": [
    "data_path = 'C:/Users/Talha/OneDrive - Higher Education Commission/Documents/GitHub/CS-5302-Project-Group-15/Datasets/'\n",
    "\n",
    "import os \n",
    "PATH = 'C:/Users/Talha/OneDrive - Higher Education Commission/Documents/GitHub/CS-5302-Project-Group-15/'\n",
    "os.chdir(PATH)\n",
    "\n",
    "from python_scripts import llm_rag"
   ]
  },
  {
   "cell_type": "code",
   "execution_count": 2,
   "metadata": {},
   "outputs": [],
   "source": [
    "model = llm_rag.DocumentEmbeddingPipeline(model_version = \"gpt-3.5-turbo\")\n",
    "model.setup_environment()\n",
    "model.prepare_documents(path = data_path, collection_name = \"ubaid_notes\", persistent = False)\n",
    "model.embed_and_index()\n",
    "model.query_data(query_data = \"What is the topic for Week 2 Notes?\")"
   ]
  },
  {
   "cell_type": "code",
   "execution_count": null,
   "metadata": {},
   "outputs": [],
   "source": []
  }
 ],
 "metadata": {
  "kernelspec": {
   "display_name": "Python 3",
   "language": "python",
   "name": "python3"
  },
  "language_info": {
   "codemirror_mode": {
    "name": "ipython",
    "version": 3
   },
   "file_extension": ".py",
   "mimetype": "text/x-python",
   "name": "python",
   "nbconvert_exporter": "python",
   "pygments_lexer": "ipython3",
   "version": "3.11.0"
  }
 },
 "nbformat": 4,
 "nbformat_minor": 2
}
