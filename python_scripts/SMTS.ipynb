{
 "cells": [
  {
   "cell_type": "code",
   "execution_count": 1,
   "metadata": {},
   "outputs": [
    {
     "name": "stderr",
     "output_type": "stream",
     "text": [
      "c:\\Users\\Admin\\OneDrive\\Documents\\GitHub\\CS-5302-Project-Group-15\\.venv\\Lib\\site-packages\\tqdm\\auto.py:21: TqdmWarning: IProgress not found. Please update jupyter and ipywidgets. See https://ipywidgets.readthedocs.io/en/stable/user_install.html\n",
      "  from .autonotebook import tqdm as notebook_tqdm\n"
     ]
    }
   ],
   "source": [
    "# data_path = 'E:/GitHub/CS-5302-Project-Group-15/Datasets/'\n",
    "data_path = 'C:/Users/Admin/OneDrive/Documents/GitHub/CS-5302-Project-Group-15/Datasets/MeDAL'\n",
    "\n",
    "import os \n",
    "PATH = 'C:/Users/Admin/OneDrive/Documents/GitHub/CS-5302-Project-Group-15/'\n",
    "os.chdir(PATH)\n",
    "from IPython.display import Markdown\n",
    "# from python_scripts import llm_rag\n",
    "# from python_scripts import machine_translation\n",
    "# from python_scripts import text_to_speech\n",
    "from python_scripts import whisper_setup\n",
    "# from python_scripts import llm_rag\n",
    "from python_scripts import get_audio\n",
    "from python_scripts import utils\n"
   ]
  },
  {
   "cell_type": "code",
   "execution_count": 2,
   "metadata": {},
   "outputs": [
    {
     "name": "stdout",
     "output_type": "stream",
     "text": [
      "Press Enter to start recording.\n",
      "Recording started. Press Enter to stop recording.\n",
      "Stopping recording...\n",
      "Recording stopped and saved to C:/Users/Admin/OneDrive/Documents/GitHub/CS-5302-Project-Group-15/Datasets/Audio_Files\\Syed Muqeem Mahmood_23_M\\Syed Muqeem Mahmood_23_M_Query_3.wav\n"
     ]
    }
   ],
   "source": [
    "# Step 1: Get Query from Audio\n",
    "audio_path = utils.record_audio()"
   ]
  },
  {
   "cell_type": "code",
   "execution_count": 3,
   "metadata": {},
   "outputs": [
    {
     "data": {
      "text/plain": [
       "'C:/Users/Admin/OneDrive/Documents/GitHub/CS-5302-Project-Group-15/Datasets/Audio_Files\\\\Syed Muqeem Mahmood_23_M'"
      ]
     },
     "execution_count": 3,
     "metadata": {},
     "output_type": "execute_result"
    }
   ],
   "source": [
    "# audio_path = 'C:/Users/Admin/OneDrive/Documents/GitHub/CS-5302-Project-Group-15/Datasets/Audio_Files/Syed Muqeem Mahmood_23_M/Syed Muqeem Mahmood_23_M_Query_2.wav'\n",
    "os.path.dirname(audio_path)"
   ]
  },
  {
   "cell_type": "code",
   "execution_count": 5,
   "metadata": {},
   "outputs": [
    {
     "name": "stderr",
     "output_type": "stream",
     "text": [
      "c:\\Users\\Admin\\OneDrive\\Documents\\GitHub\\CS-5302-Project-Group-15\\.venv\\Lib\\site-packages\\huggingface_hub\\file_download.py:148: UserWarning: `huggingface_hub` cache-system uses symlinks by default to efficiently store duplicated files but your machine does not support them in C:\\Users\\Admin\\.cache\\huggingface\\hub\\models--Systran--faster-whisper-small. Caching files will still work but in a degraded version that might require more space on your disk. This warning can be disabled by setting the `HF_HUB_DISABLE_SYMLINKS_WARNING` environment variable. For more details, see https://huggingface.co/docs/huggingface_hub/how-to-cache#limitations.\n",
      "To support symlinks on Windows, you either need to activate Developer Mode or to run Python as an administrator. In order to see activate developer mode, see this article: https://docs.microsoft.com/en-us/windows/apps/get-started/enable-your-device-for-development\n",
      "  warnings.warn(message)\n"
     ]
    }
   ],
   "source": [
    "# Step 2: Transcribe Query to English\n",
    "# List of Whisper models to use for transcription\n",
    "whisper_models = [\"tiny\", \"base\", \"small\", \"medium\", \"large-v1\", \"large-v2\", \"large-v3\", \"large\"]\n",
    "\n",
    "# Transcribe the audio file using the specified models\n",
    "transcript = whisper_setup.transcribe_audio(audio_path, [\"small\"])\n",
    "transcript"
   ]
  },
  {
   "cell_type": "code",
   "execution_count": null,
   "metadata": {},
   "outputs": [],
   "source": [
    "# Step 3: Feed query into the LLM"
   ]
  },
  {
   "cell_type": "code",
   "execution_count": 2,
   "metadata": {},
   "outputs": [],
   "source": [
    "# Not an exhaustive list\n",
    "models = { \n",
    "    'llama_13b': 'a16z-infra/llama13b-v2-chat:df7690f1994d94e96ad9d568eac121aecf50684a0b0963b25a41cc40061269e5',\n",
    "    'mixtral': 'mistralai/mixtral-8x7b-instruct-v0.1',\n",
    "    'llama_70b': 'meta/llama-2-70b-chat:2796ee9483c3fd7aa2e171d38f4ca12251a30609463dcfd4cd76703f22e96cdf'\n",
    "}"
   ]
  },
  {
   "cell_type": "code",
   "execution_count": null,
   "metadata": {},
   "outputs": [],
   "source": [
    "model = llm_rag.DocumentEmbeddingPipeline(\n",
    "    model_version = models['mixtral'] # change this to experiment with different models available on replicate\n",
    ")\n",
    "model.setup_environment()\n",
    "model.prepare_documents(data_path = data_path, collection_name = \"ubaid_notes_2\",  joining = True, persistent = False)\n",
    "model.embed_and_index()"
   ]
  },
  {
   "cell_type": "code",
   "execution_count": null,
   "metadata": {},
   "outputs": [],
   "source": [
    "# response = model.query_data(query = \"What is midwifery according to Evans? Explain in detail\")\n",
    "response = []\n",
    "response = [model.query_data(query = transcript[i]['text']) for i in range(len(whisper_models))]\n",
    "display(Markdown(f\"<b>{response}</b>\"))"
   ]
  },
  {
   "cell_type": "code",
   "execution_count": null,
   "metadata": {},
   "outputs": [],
   "source": [
    "# Step 4: Translate it back to the user language\n",
    "\n",
    "translated_text = machine_translation.translate_text(text = response, src_lang = 'en', trg_lang = transcript[0]['lang'])"
   ]
  },
  {
   "cell_type": "code",
   "execution_count": null,
   "metadata": {},
   "outputs": [],
   "source": [
    "# Step 5: Now speak the response in the user's language\n",
    "answer_path = utils.generate_answer_path(original_path = audio_path)\n",
    "text_to_speech.multilingual_text_to_speech(text = translated_text, filepath = answer_path)"
   ]
  }
 ],
 "metadata": {
  "kernelspec": {
   "display_name": "Python 3",
   "language": "python",
   "name": "python3"
  },
  "language_info": {
   "codemirror_mode": {
    "name": "ipython",
    "version": 3
   },
   "file_extension": ".py",
   "mimetype": "text/x-python",
   "name": "python",
   "nbconvert_exporter": "python",
   "pygments_lexer": "ipython3",
   "version": "3.11.0"
  }
 },
 "nbformat": 4,
 "nbformat_minor": 2
}
