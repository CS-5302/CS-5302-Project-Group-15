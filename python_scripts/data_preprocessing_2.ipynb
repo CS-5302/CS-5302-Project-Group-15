{
  "cells": [
    {
      "cell_type": "code",
      "execution_count": null,
      "metadata": {
        "colab": {
          "base_uri": "https://localhost:8080/"
        },
        "id": "M5M-L6ZlQ_t7",
        "outputId": "0cf4b6d8-a133-4abc-cc6d-0ee8e34d7ced"
      },
      "outputs": [],
      "source": [
        "%pip install opendatasets\n",
        "\n",
        "import numpy as np\n",
        "import pandas as pd\n",
        "import random\n",
        "import opendatasets"
      ]
    },
    {
      "cell_type": "code",
      "execution_count": null,
      "metadata": {
        "colab": {
          "base_uri": "https://localhost:8080/"
        },
        "id": "73I2AbV_RJd7",
        "outputId": "8d7bba58-0175-497f-91db-3023e249f0e6"
      },
      "outputs": [],
      "source": [
        "opendatasets.download(\"https://www.kaggle.com/datasets/dhivyeshrk/diseases-and-symptoms-dataset\")"
      ]
    },
    {
      "cell_type": "code",
      "execution_count": null,
      "metadata": {
        "colab": {
          "base_uri": "https://localhost:8080/",
          "height": 669
        },
        "id": "D94T4hhyRTyS",
        "outputId": "a9147389-f46d-4476-b32a-b4d8fe375e0d"
      },
      "outputs": [],
      "source": [
        "filename      = \"/content/diseases-and-symptoms-dataset/Final_Augmented_dataset_Diseases_and_Symptoms.csv\"\n",
        "n_total_rows  = 246945\n",
        "n_random_rows = 1000\n",
        "skip_indices  = sorted(random.sample(range(1, n_total_rows), n_total_rows - n_random_rows))\n",
        "df            = pd.read_csv(filename, skiprows = skip_indices)\n",
        "\n",
        "df"
      ]
    },
    {
      "cell_type": "code",
      "execution_count": null,
      "metadata": {
        "colab": {
          "base_uri": "https://localhost:8080/",
          "height": 1000
        },
        "id": "_ix98YYRdC_O",
        "outputId": "efe7387f-1d8e-4f80-df96-0c4657996e19"
      },
      "outputs": [],
      "source": [
        "symptoms = []\n",
        "prompts  = []\n",
        "results  = []\n",
        "\n",
        "for index, row in df.iterrows():\n",
        "    symptoms.append([col for col, value in row.items() if value == 1])\n",
        "    prompts.append(\"i have \" + \", \".join(symptoms[index]) + \". what disease do i have?\")\n",
        "    results.append(\"you have \" + df.iloc[index, 0] + \".\")\n",
        "\n",
        "df['prompts'] = prompts\n",
        "df['results'] = results\n",
        "\n",
        "df"
      ]
    }
  ],
  "metadata": {
    "colab": {
      "provenance": []
    },
    "kernelspec": {
      "display_name": "Python 3",
      "name": "python3"
    },
    "language_info": {
      "name": "python"
    }
  },
  "nbformat": 4,
  "nbformat_minor": 0
}
