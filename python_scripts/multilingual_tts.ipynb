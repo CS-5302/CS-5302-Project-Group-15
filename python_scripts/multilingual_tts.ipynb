{
 "cells": [
  {
   "cell_type": "code",
   "execution_count": 24,
   "metadata": {},
   "outputs": [],
   "source": [
    "from langdetect import detect\n",
    "from gtts import gTTS\n",
    "import io \n",
    "from pydub import AudioSegment\n",
    "from pydub.playback import play\n",
    "import playsound\n",
    "import os\n"
   ]
  },
  {
   "cell_type": "code",
   "execution_count": 19,
   "metadata": {},
   "outputs": [],
   "source": [
    "def multilingual_text_to_speech(text, filename=None):\n",
    "    try:\n",
    "        lang = detect(text)\n",
    "        print(f\"Detected language: {lang}\")\n",
    "        tts = gTTS(text=text, lang=lang, slow=False)\n",
    "        if filename:\n",
    "            filepath = filename\n",
    "        else:\n",
    "            filepath = f\"{lang}_speech.mp3\" \n",
    "\n",
    "        directory = os.path.dirname(\"multilingual_tts.ipynb\")  \n",
    "        filepath = os.path.join(directory, filepath)\n",
    "        tts.save(filepath)\n",
    "        print(f\"Speech saved to {filepath}\")\n",
    "\n",
    "    except Exception as e:\n",
    "        print(f\"An error occurred: {e}\")\n",
    "\n"
   ]
  },
  {
   "cell_type": "code",
   "execution_count": 20,
   "metadata": {},
   "outputs": [
    {
     "name": "stdout",
     "output_type": "stream",
     "text": [
      "Detected language: en\n",
      "Speech saved to en_speech.mp3\n",
      "Detected language: fr\n",
      "Speech saved to fr_speech.mp3\n",
      "Detected language: pt\n",
      "Speech saved to pt_speech.mp3\n"
     ]
    }
   ],
   "source": [
    "text_en = \"Hello, world!\"  # English \n",
    "text_fr = \"Bonjour tout le monde !\"  # French \n",
    "text_es = \"¡Hola mundo!\"  # Spanish \n",
    "\n",
    "multilingual_text_to_speech(text_en,\"\")\n",
    "multilingual_text_to_speech(text_fr,\"\")\n",
    "multilingual_text_to_speech(text_es,\"\")\n"
   ]
  },
  {
   "cell_type": "code",
   "execution_count": 33,
   "metadata": {},
   "outputs": [],
   "source": [
    "# audio = AudioSegment.from_mp3(\"en_speech.mp3\")\n",
    "# play(audio)\n"
   ]
  }
 ],
 "metadata": {
  "kernelspec": {
   "display_name": "Python 3",
   "language": "python",
   "name": "python3"
  },
  "language_info": {
   "codemirror_mode": {
    "name": "ipython",
    "version": 3
   },
   "file_extension": ".py",
   "mimetype": "text/x-python",
   "name": "python",
   "nbconvert_exporter": "python",
   "pygments_lexer": "ipython3",
   "version": "3.11.0"
  }
 },
 "nbformat": 4,
 "nbformat_minor": 2
}
