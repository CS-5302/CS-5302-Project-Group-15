{
 "cells": [
  {
   "cell_type": "code",
   "execution_count": 22,
   "metadata": {},
   "outputs": [],
   "source": [
    "# !pip install llama-index chromadb\n",
    "# !pip install chromadb\n",
    "# !pip install sentence-transformers\n",
    "# !pip install pydantic==1.10.11\n",
    "# !pip install -U openai\n",
    "# !pip install llama-index-storage-store-chroma \n",
    "# !pip install llama-index-llms-huggingface \n",
    "# !pip install llama-index-embeddings-huggingface\n",
    "# !pip install llama_index-response-synthesizers\n",
    "# Imports:\n",
    "\n",
    "# imports\n",
    "# from llama_index.core import VectorStoreIndex, SimpleDirectoryReader\n",
    "# from llama_index.vector_stores.chroma import ChromaVectorStore\n",
    "# from llama_index.core import StorageContext\n",
    "# from llama_index.llms.huggingface import HuggingFaceLLM\n",
    "# from llama_index.embeddings.huggingface import HuggingFaceEmbedding\n",
    "# from llama_index.core import get_response_synthesizer\n",
    "# from llama_index.core import PromptTemplate\n",
    "# from IPython.display import Markdown, display\n",
    "# import chromadb\n",
    "\n",
    "# # set up OpenAI\n",
    "# import os"
   ]
  },
  {
   "cell_type": "code",
   "execution_count": null,
   "metadata": {},
   "outputs": [],
   "source": []
  }
 ],
 "metadata": {
  "kernelspec": {
   "display_name": "Python 3",
   "language": "python",
   "name": "python3"
  },
  "language_info": {
   "codemirror_mode": {
    "name": "ipython",
    "version": 3
   },
   "file_extension": ".py",
   "mimetype": "text/x-python",
   "name": "python",
   "nbconvert_exporter": "python",
   "pygments_lexer": "ipython3",
   "version": "3.11.0"
  }
 },
 "nbformat": 4,
 "nbformat_minor": 2
}
