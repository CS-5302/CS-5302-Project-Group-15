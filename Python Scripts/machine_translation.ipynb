{
 "cells": [
  {
   "cell_type": "markdown",
   "metadata": {},
   "source": [
    "MarianMT"
   ]
  },
  {
   "cell_type": "code",
   "execution_count": 7,
   "metadata": {},
   "outputs": [
    {
     "name": "stderr",
     "output_type": "stream",
     "text": [
      "Downloading source.spm: 100%|██████████| 768k/768k [00:00<00:00, 1.16MB/s]\n",
      "Downloading target.spm: 100%|██████████| 797k/797k [00:00<00:00, 886kB/s]\n",
      "Downloading vocab.json: 100%|██████████| 1.27M/1.27M [00:00<00:00, 5.62MB/s]\n",
      "Downloading tokenizer_config.json: 100%|██████████| 42.0/42.0 [00:00<00:00, 9.57kB/s]\n",
      "Downloading config.json: 100%|██████████| 1.33k/1.33k [00:00<00:00, 224kB/s]\n",
      "Downloading pytorch_model.bin: 100%|██████████| 298M/298M [02:01<00:00, 2.46MB/s] \n",
      "Downloading generation_config.json: 100%|██████████| 293/293 [00:00<00:00, 39.9kB/s]\n"
     ]
    }
   ],
   "source": [
    "# pip install sentencepiece\n",
    "\n",
    "from transformers import MarianMTModel, MarianTokenizer\n",
    "\n",
    "import warnings\n",
    "warnings.filterwarnings('ignore')\n",
    "\n",
    "def translate_text(text, src_lang, trg_lang):\n",
    "    model_name = f'Helsinki-NLP/opus-mt-{src_lang}-{trg_lang}'\n",
    "    tokenizer = MarianTokenizer.from_pretrained(model_name)\n",
    "    model = MarianMTModel.from_pretrained(model_name)\n",
    "\n",
    "    # tokenizing the text\n",
    "    tokenized_text = tokenizer.prepare_seq2seq_batch([text], return_tensors='pt')\n",
    "\n",
    "    # generating the translation\n",
    "    translated = model.generate(**tokenized_text)\n",
    "\n",
    "    # decoding the translation\n",
    "    translation = tokenizer.batch_decode(translated, skip_special_tokens=True)\n",
    "\n",
    "    return translation[0]"
   ]
  },
  {
   "cell_type": "markdown",
   "metadata": {},
   "source": [
    "Helsinki-NLP uses ISO 639-1 and ISO 639-3 language codes. For example, the ISO code for English is 'en'. \n",
    "\n",
    "The codes can be found here: https://iso639-3.sil.org/code_tables/639/data"
   ]
  },
  {
   "cell_type": "code",
   "execution_count": 9,
   "metadata": {},
   "outputs": [
    {
     "name": "stdout",
     "output_type": "stream",
     "text": [
      "Dans le vaste désert impitoyable d'Arrakis, un jeune homme du nom de Paul Atreides s'est trouvé aux prises avec une réalité bien au-delà de ses expériences précédentes. Alors qu'il se tenait sur le précipice du destin, il s'est rappelé la litanie contre la peur de Bene Gesserit: «Je ne dois pas craindre. La peur est le tueur de l'esprit. La peur est la petite mort qui apporte l'effacement total. Je vais faire face à ma peur. Je lui permettras de passer sur moi et à travers moi. Et quand elle sera passée, je tournerai l'œil intérieur pour voir son chemin. Là où la peur est partie, il n'y aura rien.\n"
     ]
    }
   ],
   "source": [
    "text = \"In the vast, unforgiving desert of Arrakis, a young man named Paul Atreides found himself grappling with a reality far beyond his previous experiences. As he stood on the precipice of destiny, he reminded himself of the Bene Gesserit Litany Against Fear: 'I must not fear. Fear is the mind-killer. Fear is the little-death that brings total obliteration. I will face my fear. I will permit it to pass over me and through me. And when it has gone past I will turn the inner eye to see its path. Where the fear has gone there will be nothing. Only I will remain.'\"\n",
    "translated_text = translate_text(text, \"en\", \"fr\")\n",
    "print(translated_text)"
   ]
  }
 ],
 "metadata": {
  "kernelspec": {
   "display_name": "Python 3",
   "language": "python",
   "name": "python3"
  },
  "language_info": {
   "codemirror_mode": {
    "name": "ipython",
    "version": 3
   },
   "file_extension": ".py",
   "mimetype": "text/x-python",
   "name": "python",
   "nbconvert_exporter": "python",
   "pygments_lexer": "ipython3",
   "version": "3.7.8"
  }
 },
 "nbformat": 4,
 "nbformat_minor": 2
}
