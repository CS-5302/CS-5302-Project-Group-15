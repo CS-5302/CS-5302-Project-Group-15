{
 "cells": [
  {
   "cell_type": "code",
   "execution_count": 1,
   "metadata": {},
   "outputs": [
    {
     "name": "stdout",
     "output_type": "stream",
     "text": [
      "c:\\Users\\Admin\\OneDrive\\Documents\\GitHub\\CS-5302-Project-Group-15\\Datasets\\MeDAL\\training_data.jsonl\n"
     ]
    }
   ],
   "source": [
    "import gradio as gr\n",
    "import os\n",
    "from IPython.display import Markdown\n",
    "from python_scripts import llm_rag, machine_translation, text_to_speech, whisper_setup, get_audio, utils\n",
    "import numpy as np\n",
    "from scipy.io.wavfile import write\n",
    "\n",
    "# Define paths dynamically\n",
    "PATH = os.getcwd().replace('\\\\\\\\', '/')\n",
    "root_path = PATH + '\\\\Datasets\\\\MeDAL'\n",
    "data_path = root_path + '\\\\training_data.jsonl'\n",
    "print(data_path)\n",
    "audio_path = PATH + '\\\\Datasets\\\\Audio_Files'"
   ]
  },
  {
   "cell_type": "code",
   "execution_count": 2,
   "metadata": {},
   "outputs": [
    {
     "data": {
      "text/plain": [
       "<module 'python_scripts.llm_rag' from 'c:\\\\Users\\\\Admin\\\\OneDrive\\\\Documents\\\\GitHub\\\\CS-5302-Project-Group-15\\\\python_scripts\\\\llm_rag.py'>"
      ]
     },
     "execution_count": 2,
     "metadata": {},
     "output_type": "execute_result"
    }
   ],
   "source": [
    "import importlib\n",
    "\n",
    "importlib.reload(llm_rag)\n",
    "# importlib.reload(machine_translation)\n",
    "# importlib.reload(text_to_speech)\n",
    "# importlib.reload(whisper_setup)\n",
    "# importlib.reload(get_audio)\n",
    "# importlib.reload(utils)\n"
   ]
  },
  {
   "cell_type": "code",
   "execution_count": 3,
   "metadata": {},
   "outputs": [
    {
     "name": "stdout",
     "output_type": "stream",
     "text": [
      "0\n",
      "1\n",
      "2\n",
      "talha muqeem\n",
      "[]\n",
      "collection nahi hai\n",
      "c:\\Users\\Admin\\OneDrive\\Documents\\GitHub\\CS-5302-Project-Group-15\\Datasets\\MeDAL\\diagnosis_data_combined.jsonl\n",
      "hello\n",
      "talha momy\n",
      "ubaid king\n"
     ]
    },
    {
     "ename": "PermissionError",
     "evalue": "[Errno 13] Permission denied: 'c:\\\\Users\\\\Admin\\\\OneDrive\\\\Documents\\\\GitHub\\\\CS-5302-Project-Group-15\\\\Datasets\\\\MeDAL'",
     "output_type": "error",
     "traceback": [
      "\u001b[1;31m---------------------------------------------------------------------------\u001b[0m",
      "\u001b[1;31mPermissionError\u001b[0m                           Traceback (most recent call last)",
      "Cell \u001b[1;32mIn[3], line 13\u001b[0m\n\u001b[0;32m     11\u001b[0m model\u001b[38;5;241m.\u001b[39msetup_environment()\n\u001b[0;32m     12\u001b[0m \u001b[38;5;28mprint\u001b[39m(\u001b[38;5;124m\"\u001b[39m\u001b[38;5;124m2\u001b[39m\u001b[38;5;124m\"\u001b[39m)\n\u001b[1;32m---> 13\u001b[0m model\u001b[38;5;241m.\u001b[39mprepare_documents(data_path \u001b[38;5;241m=\u001b[39m data_path, collection_name \u001b[38;5;241m=\u001b[39m \u001b[38;5;124m\"\u001b[39m\u001b[38;5;124mmuqeen\u001b[39m\u001b[38;5;124m\"\u001b[39m, joining \u001b[38;5;241m=\u001b[39m \u001b[38;5;28;01mTrue\u001b[39;00m, persistent \u001b[38;5;241m=\u001b[39m \u001b[38;5;28;01mFalse\u001b[39;00m)\n\u001b[0;32m     14\u001b[0m \u001b[38;5;28mprint\u001b[39m(\u001b[38;5;124m\"\u001b[39m\u001b[38;5;124m3\u001b[39m\u001b[38;5;124m\"\u001b[39m)\n\u001b[0;32m     15\u001b[0m model\u001b[38;5;241m.\u001b[39membed_and_index()\n",
      "File \u001b[1;32mc:\\Users\\Admin\\OneDrive\\Documents\\GitHub\\CS-5302-Project-Group-15\\python_scripts\\llm_rag.py:101\u001b[0m, in \u001b[0;36mDocumentEmbeddingPipeline.prepare_documents\u001b[1;34m(self, data_path, collection_name, joining, persistent)\u001b[0m\n\u001b[0;32m     99\u001b[0m         \u001b[38;5;28mprint\u001b[39m(\u001b[38;5;124m\"\u001b[39m\u001b[38;5;124mubaid king\u001b[39m\u001b[38;5;124m\"\u001b[39m)\n\u001b[0;32m    100\u001b[0m         \u001b[38;5;66;03m# data_path = data_path + '/json_to_text.txt'\u001b[39;00m\n\u001b[1;32m--> 101\u001b[0m         step3 \u001b[38;5;241m=\u001b[39m utils\u001b[38;5;241m.\u001b[39mwrite_list_to_file(step2, \u001b[38;5;28mself\u001b[39m\u001b[38;5;241m.\u001b[39mchroma_path)\n\u001b[0;32m    103\u001b[0m required_exts \u001b[38;5;241m=\u001b[39m [\u001b[38;5;124m'\u001b[39m\u001b[38;5;124m.txt\u001b[39m\u001b[38;5;124m'\u001b[39m]\n\u001b[0;32m    104\u001b[0m \u001b[38;5;28mprint\u001b[39m(\u001b[38;5;124m\"\u001b[39m\u001b[38;5;124mRR\u001b[39m\u001b[38;5;124m\"\u001b[39m)\n",
      "File \u001b[1;32mc:\\Users\\Admin\\OneDrive\\Documents\\GitHub\\CS-5302-Project-Group-15\\python_scripts\\utils.py:227\u001b[0m, in \u001b[0;36mwrite_list_to_file\u001b[1;34m(list_of_items, file_path)\u001b[0m\n\u001b[0;32m    217\u001b[0m \u001b[38;5;28;01mdef\u001b[39;00m \u001b[38;5;21mwrite_list_to_file\u001b[39m(list_of_items, file_path):\n\u001b[0;32m    218\u001b[0m \u001b[38;5;250m    \u001b[39m\u001b[38;5;124;03m\"\"\"\u001b[39;00m\n\u001b[0;32m    219\u001b[0m \u001b[38;5;124;03m    Writes a list to a text file, with each element on a new line.\u001b[39;00m\n\u001b[0;32m    220\u001b[0m \n\u001b[1;32m   (...)\u001b[0m\n\u001b[0;32m    225\u001b[0m \u001b[38;5;124;03m    Each item in the list will be converted to a string if it is not already one.\u001b[39;00m\n\u001b[0;32m    226\u001b[0m \u001b[38;5;124;03m    \"\"\"\u001b[39;00m\n\u001b[1;32m--> 227\u001b[0m     \u001b[38;5;28;01mwith\u001b[39;00m \u001b[38;5;28mopen\u001b[39m(file_path, \u001b[38;5;124m'\u001b[39m\u001b[38;5;124mw\u001b[39m\u001b[38;5;124m'\u001b[39m) \u001b[38;5;28;01mas\u001b[39;00m file:\n\u001b[0;32m    228\u001b[0m         \u001b[38;5;28;01mfor\u001b[39;00m item \u001b[38;5;129;01min\u001b[39;00m list_of_items:\n\u001b[0;32m    229\u001b[0m             \u001b[38;5;66;03m# Convert item to string and write it to the file followed by a newline\u001b[39;00m\n\u001b[0;32m    230\u001b[0m             \u001b[38;5;28mprint\u001b[39m(\u001b[38;5;124m\"\u001b[39m\u001b[38;5;124mi dont have permission bcuz i am muqeem\u001b[39m\u001b[38;5;124m\"\u001b[39m)\n",
      "\u001b[1;31mPermissionError\u001b[0m: [Errno 13] Permission denied: 'c:\\\\Users\\\\Admin\\\\OneDrive\\\\Documents\\\\GitHub\\\\CS-5302-Project-Group-15\\\\Datasets\\\\MeDAL'"
     ]
    }
   ],
   "source": [
    "models = { \n",
    "'llama_ours': 'ubaidtariq8/llama2-med-genai', # fine tuned model\n",
    "'llama_13b': 'a16z-infra/llama13b-v2-chat:df7690f1994d94e96ad9d568eac121aecf50684a0b0963b25a41cc40061269e5',\n",
    "'mixtral': 'mistralai/mixtral-8x7b-instruct-v0.1',\n",
    "'llama_70b': 'meta/llama-2-70b-chat:2796ee9483c3fd7aa2e171d38f4ca12251a30609463dcfd4cd76703f22e96cdf'\n",
    "}\n",
    "\n",
    "print(\"0\")\n",
    "model = llm_rag.DocumentEmbeddingPipeline(model_version = models['mixtral'], chroma_path = root_path)\n",
    "print(\"1\")\n",
    "model.setup_environment()\n",
    "print(\"2\")\n",
    "model.prepare_documents(data_path = data_path, collection_name = \"muqeen\", joining = True, persistent = False)\n",
    "print(\"3\")\n",
    "model.embed_and_index()\n"
   ]
  },
  {
   "cell_type": "code",
   "execution_count": null,
   "metadata": {},
   "outputs": [
    {
     "data": {
      "text/plain": [
       "Response(response=\"I'm here to help answer your questions to the best of my ability, but I want to clarify that I can't provide medical advice. Your symptoms of eyelid twitching and knee burning could be related to a variety of factors, such as fatigue, stress, or physical strain. However, these symptoms could also be indicative of a more serious condition. It's important to consult with a healthcare professional who can provide a proper diagnosis and treatment recommendations based on a thorough examination and medical history.\", source_nodes=[NodeWithScore(node=TextNode(id_='24a5bcc4-9ad3-48e7-8557-0bbf76fdf489', embedding=None, metadata={'source': 'muqeen'}, excluded_embed_metadata_keys=[], excluded_llm_metadata_keys=[], relationships={}, text='patients on hypertransfusion regimens\\r\\nmultiunit sympathetic skin nerve activity ssa in the peroneal nerve was recorded together with electrical skin resistance skin blood flow and in some subjects finger blood pressure during sleep in sleepdeprived HS the average strength of sympathetic activity in different sleep stages was measured during min periods as the AUC of the integrated neurogram stage sleep was reached by subjects stages by nine and rapid eye movement rem sleep by six subjects nonrem sleep was always associated with an increased skin resistance which was larger in glabrous than in hairy skin vs of awake control level n p skin blood flow also increased during sleep with a mean maximal increase of of the awake control level n p in spite of these changes of effector function no significant difference in mean ssa was found between the awake control period and periods of nonrem sleep but during rem sleep ssa increased with p compared with the immediately preceding stage period in stage sleep kcomplexes were associated with bursts of ssa followed by transient changes of SR blood flow and arterial blood pressure when both SR and blood flow were recorded within the innervation area of the impaled fascicle single bursts or short periods of increased ssa could be succeeded by increased skin blood flow without concomitant skin resistance change this indicates the existence of TPS sympathetic vasodilator fibres in the skin therefore the unchanged strength of multiunit ssa during nonrem sleep in the face of increases of skin resistance and blood flow may be a consequence of an increased sympathetic vasodilator nerve activity combined with decreases of vasoconstrictor and sudomotor traffic\\r\\nan experiment was conducted to test the effect of repeated transcervical nonsurgical uterine flushing and a prostaglandin analogue pg on the estrous cycle of pony mares uteri in group a were trancervically flushed for embryos to days post ovulation in addition group b mares were given ml of pg by IM injection on the day of flushing group c served as controls and were not flushed or given pg but were allowed to cycle normally all mares except controls were bred ai every other day during estrus there was no effect on embryo REC rate from repeated flushing or pg administration the number of days in estrus was greater for groups a and b than for group c p length of diestrus was longer for group c than for the other two CG the total estrous cycle length was similar for all three groups p\\r\\nexpected yr survival for patients with urothelial urinary bladder CA ubc with lymph node involvement pn is regardless of standard neoadjuvantadjuvant oncologic treatment tumorreactive lymphocytes are present in SNs sns draining human bladder cancer and display immunologic CF on restimulation in vitro metinel nodes mns drain secondarily from metastatic PT and also possess tumorreactive lymphocytes which might be a source for adoptive tcell immunotherapy\\r\\nperiodontal diseases are associated with specific pathogenic microorganisms and therefore antimicrobial agents are often used in the treatment of patients with periodontitis refractory to conventional mechanical therapy p.o. administered antimicrobial agents often lead to ecological disturbances in the normal oral and intestinal microflora with overgrowth of potentially pathogenic microorganisms which may spread within the host or from patient to patient causing infections the use of antimicrobial agents also promotes the emergence of bacterial drug resistance both in the periodontal pocket and in the normal oral and intestinal microflora topical administration of antimicrobial agents in the periodontal pockets causes restricted disturbances in the intestinal microflora although there is a substantial risk of development of resistance at the site of application a number of clinical studies imply that correct use of antimicrobial agents might be beneficial for a subset of patients with AD or juvenile periodontitis the choice of antimicrobial agent should always be based on accurate microbial analyses of the subgingival microflora and in vitro antimicrobial susceptibility tests of the most important periodontal pathogens preferably agents wirway one patients with no history of airway disease had normal baseline expiratory flows and no posttransfusion changes those with a history of AO had lower pretransfusion expiratory flows rates and significantly decreased posttransfusion forced expiratory volume in second fev and forced expiratory flow at of forced vital capacity fev as a group tm patients had significantly lower pretransfusion cardiorespiratory CF than controls tm patients maximum workload was lower maximum ventilation was lower maximum oxygen uptake was lower oxygen pulse was lower dyspnea index was lower and VE/VO2 was lower than in control subjects although CR responses to exercise improved in both subgroups after transfusion patients with a history of airways one had a significant posttransfusion increase in their dyspnea index p and further increased their already abnormally high values of petco mmhg these results suggest that the transfusion worsened relative hypoventilation at the maximum workload only in the', start_char_idx=None, end_char_idx=None, text_template='{metadata_str}\\n\\n{content}', metadata_template='{key}: {value}', metadata_seperator='\\n'), score=0.6876233937511428), NodeWithScore(node=TextNode(id_='ad0b5fcb-2952-4748-85df-0b5b92b5c734', embedding=None, metadata={'source': 'muqeen'}, excluded_embed_metadata_keys=[], excluded_llm_metadata_keys=[], relationships={}, text='of SD surface structures the corollary rich phase diagram and the corresponding phase transitions present an interesting opportunity for lowdimensional molecular systems particularly if some of the electronic properties of the bulk can be preserved or modified in the surface phases\\r\\nnarcolepsy is characterized by fragmented nighttime sleep and frequent arousals one treatment approach to improve daytime PS is to consolidate nighttime sleep through decreasing arousals sodium oxybate is the first fdaapproved medication that follows this RPA benzodiazepines are known to also decrease arousals at night and have been proposed to help with sleep fragmentation in one report clonazepam was shown to improve cataplexy in of patients with narcolepsy although no improvement in daytime sleepiness was reported the purpose of this case review was to share our experience of nocturnal temazepam on daytime sleepiness in patients with narcolepsy as measured by the epworth KSS ess\\r\\ncomplications related to the use of imageguided systems in sinus surgery are fortunately rare we report a case series of patients who experienced facial neuropathies both sensory and motor related to the use of a headset for electromagneticbased imageguided surgery the auriculotemporal nerve was the most common sensory nerve involved and the buccal CB of the facial nerve was implicated in a case of motor weakness the cause of the complication appears to be a pressure neuropathy caused by a tightfitting headset against the EAM and temporomandibular joint additional risk AF for headsetrelated neuropathy may relate to body habitus length of surgicalo be uncomfortable considered it to be acceptable and regarded it as comfortable six design PE were identified and five body Az were reported as experiencing discomfort due to the footwear factor analysis identified four factors related to discomfort and six design PE subsequent rho analysis identified several relationships among these AF there was a strong rho r p between plantar discomfort and incorrect arch support\\r\\nEP and volumetric evidence link the swellingactivated cl channels gclvol of nonpigmented ciliary epithelial npe cells with the clchannelclchannel CDR picln however inhibitors verapamil and dideoxyforskolin of another cl channelregulator mdr have been found to inhibit the volumeactivated transport response the regulatory volume decrease rvd of bovine npe cells we have addressed the possible molecular basis for the npe cl channels by volumetric measurements of odm human npe cells in hypotonic and isotonic test solutions and by PCR reaction pcr cloning and RNA analyses of the same cells verapamil and dideoxyforskolin did inhibit the rvd however at a concentration microm which blocks of the mdrassociated cl currents forskolin had no effect on the volumeactivated cl channels or on the inhibition of those channels by protein kinase c high concentrations of atp and mm and NFA ic approximately microm also block gclvol the rvd is inhibited by phenylanthranilic acid dpc and nitrophenylpropylaminobenzoate nppb unaffected by anthracenecarboxylic acid ac and stimulated by ionomycin the clchannel blockers nppb niflumic acid dpc and ac and the caionophore ionomycin had qualitatively similar effects on the rate of staurosporineactivated isotonic cell shrinkage these results support the concept that the volumesensitive protein picln regulates the cl channels and that the same conduits subserve volume and staurosporineactivated cl release of the cloned and sequenced cl channels clc uniquely conforms to the stationary currents and pkc sensitivity of the npe cl channels pcr amplifications of human cdna libraries from ciliary body npe cells and retina with primers based on human clc and clc cdna and RNA analyses using the products generated indicated that ciliary epithelial cells express transcripts for clc but not clc we suggest that clc provides the same conduit for both volumeactivated and isotonically staurosporineactivated cl channels of human NPE cells\\r\\nPNH pnh is an acquired hematologic disorder that resembles in several aspects the tnsyndrome in which bone marrowderived cells are deficient in mucintype beta galactosyltransferase beta galt due to the persistent repression of an intact allele in the present study we have investigated phytohemagglutinin phaactivated TA from the peripheral blood of an individual with the wellestablished clinical diagnosis of pnh only of t cells were deficient in surface expression of the glycosylphosphatidylinositol gpilinked cd antigen in contrast of the patients polymorphonuclear leukocytes harbored the defect the cellsurface density of cd on unaffected TA from this patient was two to threefold higher when compared to phaactivated normal donor TA cdnegative t cells were cloned and shown to belong to the cd or the cd antigenic subset to', start_char_idx=None, end_char_idx=None, text_template='{metadata_str}\\n\\n{content}', metadata_template='{key}: {value}', metadata_seperator='\\n'), score=0.6874822540103699)], metadata={'24a5bcc4-9ad3-48e7-8557-0bbf76fdf489': {'source': 'muqeen'}, 'ad0b5fcb-2952-4748-85df-0b5b92b5c734': {'source': 'muqeen'}})"
      ]
     },
     "execution_count": 4,
     "metadata": {},
     "output_type": "execute_result"
    }
   ],
   "source": [
    "model.query_data(\"my eyelids are constantly twitching and my knees are burning. help\")"
   ]
  }
 ],
 "metadata": {
  "kernelspec": {
   "display_name": "Python 3",
   "language": "python",
   "name": "python3"
  },
  "language_info": {
   "codemirror_mode": {
    "name": "ipython",
    "version": 3
   },
   "file_extension": ".py",
   "mimetype": "text/x-python",
   "name": "python",
   "nbconvert_exporter": "python",
   "pygments_lexer": "ipython3",
   "version": "3.11.7"
  }
 },
 "nbformat": 4,
 "nbformat_minor": 2
}
