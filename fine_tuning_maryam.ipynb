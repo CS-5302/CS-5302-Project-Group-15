{
 "cells": [
  {
   "cell_type": "code",
   "execution_count": 26,
   "metadata": {},
   "outputs": [],
   "source": [
    "import os\n",
    "import pandas as pd\n",
    "os.environ['GRADIENT_WORKSPACE_ID']='9d0447f2-fcd4-4177-9145-9f019fd59f1e_workspace'\n",
    "os.environ['GRADIENT_ACCESS_TOKEN']='cPErsUMgadGMbzeq8z8W36eJn7UA0Uob'"
   ]
  },
  {
   "cell_type": "code",
   "execution_count": 29,
   "metadata": {},
   "outputs": [],
   "source": [
    "df1 = pd.read_csv(\"https://raw.githubusercontent.com/CS-5302/CS-5302-Project-Group-15/main/Datasets/testing/dataset_processed.csv\")\n",
    "df2 = pd.read_csv(\"https://raw.githubusercontent.com/CS-5302/CS-5302-Project-Group-15/main/Datasets/testing/disease_symptom.csv\")\n",
    "df1_pr = df1[[\"prompts\", \"results\"]]\n",
    "df2_pr = df2[[\"prompts\", \"results\"]]\n",
    "combined_df = pd.concat([df1_pr, df2_pr], ignore_index=True)\n",
    "combined_df.to_csv(\"combined_df.csv\", index=False)"
   ]
  },
  {
   "cell_type": "code",
   "execution_count": 22,
   "metadata": {},
   "outputs": [
    {
     "name": "stdout",
     "output_type": "stream",
     "text": [
      "Created model adapter with id aadb1644-beac-4cad-8c09-e510eef2d43f_model_adapter\n",
      "Asking: ###I have Fever, Fatigue, Difficulty Breathing. What disease do i have? ### Response:\n",
      "Generated(before fine tuning):  Based on the symptoms you have described, it is possible that you may have a respiratory illness such as pneumonia, influenza, or COVID-19. However, it is recommended that you consult with a healthcare professional for a proper diagnosis and treatment.\n",
      "Fine tuning the model with iteration 1\n",
      "Fine tuning the model with iteration 2\n",
      "Fine tuning the model with iteration 3\n",
      "Generated(after fine tuning):  You have Asthma.\n"
     ]
    }
   ],
   "source": [
    "from gradientai import Gradient\n",
    "\n",
    "\n",
    "def main():\n",
    "    gradient = Gradient()\n",
    "\n",
    "    base_model = gradient.get_base_model(base_model_slug=\"nous-hermes2\")\n",
    "\n",
    "    new_model_adapter = base_model.create_model_adapter(\n",
    "        name=\"meta/llama-2-7b:73001d654114dad81ec65da3b834e2f691af1e1526453189b7bf36fb3f32d0f9\"\n",
    "    )\n",
    "    print(f\"Created model adapter with id {new_model_adapter.id}\")\n",
    "\n",
    "\n",
    "    sample_query = f\"###{df['prompts'][0]} ### Response:\"\n",
    "    print(f\"Asking: {sample_query}\")\n",
    "    ## Before Finetuning\n",
    "    completion = new_model_adapter.complete(query=sample_query, max_generated_token_count=100).generated_output\n",
    "    print(f\"Generated(before fine tuning): {completion}\")\n",
    "\n",
    "    samples=[\n",
    "        {\"inputs\":f\"### Instruction: {df['prompts'][0]} \\n\\n### Response: {df['results'][0]}\"},\n",
    "        {\"inputs\":f\"### Instruction: {df['prompts'][1]} \\n\\n### Response: {df['results'][1]}\"},\n",
    "        {\"inputs\":f\"### Instruction: {df['prompts'][2]} \\n\\n### Response: {df['results'][2]}\"},\n",
    "        {\"inputs\":f\"### Instruction: {df['prompts'][3]} \\n\\n### Response: {df['results'][3]}\"}\n",
    "        \n",
    "    ]\n",
    "\n",
    "    ## Lets define parameters for finetuning\n",
    "    num_epochs=3\n",
    "    count=0\n",
    "    while count<num_epochs:\n",
    "      print(f\"Fine tuning the model with iteration {count + 1}\")\n",
    "      new_model_adapter.fine_tune(samples=samples)\n",
    "      count=count+1\n",
    "\n",
    "    #after fine tuning\n",
    "    completion = new_model_adapter.complete(query=sample_query, max_generated_token_count=100).generated_output\n",
    "    print(f\"Generated(after fine tuning): {completion}\")\n",
    "    new_model_adapter.delete()\n",
    "    gradient.close()\n",
    "\n",
    "if __name__ == \"__main__\":\n",
    "    main()"
   ]
  }
 ],
 "metadata": {
  "kernelspec": {
   "display_name": "Python 3",
   "language": "python",
   "name": "python3"
  },
  "language_info": {
   "codemirror_mode": {
    "name": "ipython",
    "version": 3
   },
   "file_extension": ".py",
   "mimetype": "text/x-python",
   "name": "python",
   "nbconvert_exporter": "python",
   "pygments_lexer": "ipython3",
   "version": "3.11.0"
  }
 },
 "nbformat": 4,
 "nbformat_minor": 2
}
